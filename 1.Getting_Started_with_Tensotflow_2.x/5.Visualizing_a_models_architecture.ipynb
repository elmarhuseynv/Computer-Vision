{
 "cells": [
  {
   "cell_type": "code",
   "execution_count": 1,
   "metadata": {},
   "outputs": [],
   "source": [
    "from PIL import Image\n",
    "from tensorflow.keras import Model\n",
    "from tensorflow.keras.layers import BatchNormalization\n",
    "from tensorflow.keras.layers import Conv2D\n",
    "from tensorflow.keras.layers import Dense\n",
    "from tensorflow.keras.layers import Dropout\n",
    "from tensorflow.keras.layers import Flatten\n",
    "from tensorflow.keras.layers import MaxPooling2D\n",
    "from tensorflow.keras.layers import Input\n",
    "from tensorflow.keras.layers import LeakyReLU\n",
    "from tensorflow.keras.layers import Softmax\n",
    "from tensorflow.keras.utils import plot_model"
   ]
  },
  {
   "cell_type": "code",
   "execution_count": 2,
   "metadata": {},
   "outputs": [],
   "source": [
    "input_layer = Input(shape=(64, 64, 3), name='input_layer')\n",
    "\n",
    "convolution_1 = Conv2D(kernel_size=(2,2),\n",
    "                       padding='same',\n",
    "                       strides=(2,2),\n",
    "                       filters=32,\n",
    "                       name='convolution_1')(input_layer)\n",
    "activation_1 = LeakyReLU(name='activation_1')(convolution_1)\n",
    "batchnormalization_1 = BatchNormalization(name='batchnormalization_1')(activation_1)\n",
    "pooling_1 = MaxPooling2D(pool_size=(2,2),\n",
    "                         strides=(1,1),\n",
    "                         padding='same',\n",
    "                         name='pooling_1')(batchnormalization_1)\n",
    "\n",
    "convolution_2 = Conv2D(kernel_size=(2,2),\n",
    "                       padding='same',\n",
    "                       strides=(2,2),\n",
    "                       filters=64,\n",
    "                       name='convolution_2')(pooling_1)\n",
    "activation_2 = LeakyReLU(name='activation_2')(convolution_2)\n",
    "batchnormalization_2 = BatchNormalization(name='batchnormalization_2')(activation_2)\n",
    "pooling_2 = MaxPooling2D(pool_size=(2,2),\n",
    "                         strides=(1,1),\n",
    "                         padding='same',\n",
    "                         name='pooling_2')(batchnormalization_2)\n",
    "dropout = Dropout(rate=0.5, name='dropout')(pooling_2)\n",
    "\n",
    "flatten = Flatten(name='flatten')(dropout)\n",
    "dense_1 = Dense(units=256, name='dense_1')(flatten)\n",
    "activation_3 = LeakyReLU(name='activation_3')(dense_1)\n",
    "dense_2 = Dense(units=128, name='dense_2')(activation_3)\n",
    "activation_4 = LeakyReLU(name='activation_5')(dense_2)\n",
    "dense_3 = Dense(units=3, name='dense_3')(activation_4)\n",
    "output = Softmax(name='output')(dense_3)\n",
    "\n",
    "model = Model(inputs=input_layer, outputs=output, name='my_model')"
   ]
  },
  {
   "cell_type": "code",
   "execution_count": 3,
   "metadata": {},
   "outputs": [
    {
     "name": "stdout",
     "output_type": "stream",
     "text": [
      "Model: \"my_model\"\n",
      "_________________________________________________________________\n",
      " Layer (type)                Output Shape              Param #   \n",
      "=================================================================\n",
      " input_layer (InputLayer)    [(None, 64, 64, 3)]       0         \n",
      "                                                                 \n",
      " convolution_1 (Conv2D)      (None, 32, 32, 32)        416       \n",
      "                                                                 \n",
      " activation_1 (LeakyReLU)    (None, 32, 32, 32)        0         \n",
      "                                                                 \n",
      " batchnormalization_1 (Batch  (None, 32, 32, 32)       128       \n",
      " Normalization)                                                  \n",
      "                                                                 \n",
      " pooling_1 (MaxPooling2D)    (None, 32, 32, 32)        0         \n",
      "                                                                 \n",
      " convolution_2 (Conv2D)      (None, 16, 16, 64)        8256      \n",
      "                                                                 \n",
      " activation_2 (LeakyReLU)    (None, 16, 16, 64)        0         \n",
      "                                                                 \n",
      " batchnormalization_2 (Batch  (None, 16, 16, 64)       256       \n",
      " Normalization)                                                  \n",
      "                                                                 \n",
      " pooling_2 (MaxPooling2D)    (None, 16, 16, 64)        0         \n",
      "                                                                 \n",
      " dropout (Dropout)           (None, 16, 16, 64)        0         \n",
      "                                                                 \n",
      " flatten (Flatten)           (None, 16384)             0         \n",
      "                                                                 \n",
      " dense_1 (Dense)             (None, 256)               4194560   \n",
      "                                                                 \n",
      " activation_3 (LeakyReLU)    (None, 256)               0         \n",
      "                                                                 \n",
      " dense_2 (Dense)             (None, 128)               32896     \n",
      "                                                                 \n",
      " activation_5 (LeakyReLU)    (None, 128)               0         \n",
      "                                                                 \n",
      " dense_3 (Dense)             (None, 3)                 387       \n",
      "                                                                 \n",
      " output (Softmax)            (None, 3)                 0         \n",
      "                                                                 \n",
      "=================================================================\n",
      "Total params: 4,236,899\n",
      "Trainable params: 4,236,707\n",
      "Non-trainable params: 192\n",
      "_________________________________________________________________\n",
      "None\n"
     ]
    }
   ],
   "source": [
    "print(model.summary())"
   ]
  },
  {
   "cell_type": "code",
   "execution_count": 4,
   "metadata": {},
   "outputs": [],
   "source": [
    "plot_model(model, show_shapes=True, show_layer_names=True, to_file='my_model.jpg')\n",
    "model_diagram = Image.open('my_model.jpg')"
   ]
  }
 ],
 "metadata": {
  "kernelspec": {
   "display_name": "Python 3 (ipykernel)",
   "language": "python",
   "name": "python3"
  },
  "language_info": {
   "codemirror_mode": {
    "name": "ipython",
    "version": 3
   },
   "file_extension": ".py",
   "mimetype": "text/x-python",
   "name": "python",
   "nbconvert_exporter": "python",
   "pygments_lexer": "ipython3",
   "version": "3.9.12"
  }
 },
 "nbformat": 4,
 "nbformat_minor": 2
}
