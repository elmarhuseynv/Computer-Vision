{
 "cells": [
  {
   "cell_type": "code",
   "execution_count": 1,
   "metadata": {},
   "outputs": [],
   "source": [
    "from PIL import Image\n",
    "from tensorflow.keras import Model\n",
    "from tensorflow.keras.layers import BatchNormalization\n",
    "from tensorflow.keras.layers import Conv2D\n",
    "from tensorflow.keras.layers import Dense\n",
    "from tensorflow.keras.layers import Dropout\n",
    "from tensorflow.keras.layers import Flatten\n",
    "from tensorflow.keras.layers import MaxPooling2D\n",
    "from tensorflow.keras.layers import Input\n",
    "from tensorflow.keras.layers import LeakyReLU\n",
    "from tensorflow.keras.layers import Softmax\n",
    "from tensorflow.keras.utils import plot_model"
   ]
  },
  {
   "cell_type": "code",
   "execution_count": 2,
   "metadata": {},
   "outputs": [],
   "source": [
    "input_layer = Input(shape=(64, 64, 3), name='input_layer')\n",
    "\n",
    "convolution_1 = Conv2D(kernel_size=(2,2),\n",
    "                       padding='same',\n",
    "                       strides=(2,2),\n",
    "                       filters=32,\n",
    "                       name='convolution_1')(input_layer)\n",
    "activation_1 = LeakyReLU(name='activation_1')(convolution_1)\n",
    "batchnormalization_1 = BatchNormalization(name='batchnormalization_1')(activation_1)\n",
    "pooling_1 = MaxPooling2D(pool_size=(2,2),\n",
    "                         strides=(1,1),\n",
    "                         padding='same',\n",
    "                         name='pooling_1')(batchnormalization_1)\n",
    "\n",
    "convolution_2 = Conv2D(kernel_size=(2,2),\n",
    "                       padding='same',\n",
    "                       strides=(2,2),\n",
    "                       filters=64,\n",
    "                       name='convolution_2')(pooling_1)\n",
    "activation_2 = LeakyReLU(name='activation_2')(convolution_2)\n",
    "batchnormalization_2 = BatchNormalization(name='batchnormalization_2')(activation_2)\n",
    "pooling_2 = MaxPooling2D(pool_size=(2,2),\n",
    "                         strides=(1,1),\n",
    "                         padding='same',\n",
    "                         name='pooling_2')(batchnormalization_2)\n",
    "dropout = Dropout(rate=0.5, name='dropout')(pooling_2)\n",
    "\n",
    "flatten = Flatten(name='flatten')(dropout)\n",
    "dense_1 = Dense(units=256, name='dense_1')(flatten)\n",
    "activation_3 = LeakyReLU(name='activation_3')(dense_1)\n",
    "dense_2 = Dense(units=128, name='dense_2')(activation_3)\n",
    "activation_4 = LeakyReLU(name='activation_5')(dense_2)\n",
    "dense_3 = Dense(units=3, name='dense_3')(activation_4)\n",
    "output = Softmax(name='output')(dense_3)\n",
    "\n",
    "model = Model(inputs=input_layer, outputs=output, name='my_model')"
   ]
  },
  {
   "cell_type": "code",
   "execution_count": 3,
   "metadata": {},
   "outputs": [
    {
     "name": "stdout",
     "output_type": "stream",
     "text": [
      "Model: \"my_model\"\n",
      "_________________________________________________________________\n",
      " Layer (type)                Output Shape              Param #   \n",
      "=================================================================\n",
      " input_layer (InputLayer)    [(None, 64, 64, 3)]       0         \n",
      "                                                                 \n",
      " convolution_1 (Conv2D)      (None, 32, 32, 32)        416       \n",
      "                                                                 \n",
      " activation_1 (LeakyReLU)    (None, 32, 32, 32)        0         \n",
      "                                                                 \n",
      " batchnormalization_1 (Batch  (None, 32, 32, 32)       128       \n",
      " Normalization)                                                  \n",
      "                                                                 \n",
      " pooling_1 (MaxPooling2D)    (None, 32, 32, 32)        0         \n",
      "                                                                 \n",
      " convolution_2 (Conv2D)      (None, 16, 16, 64)        8256      \n",
      "                                                                 \n",
      " activation_2 (LeakyReLU)    (None, 16, 16, 64)        0         \n",
      "                                                                 \n",
      " batchnormalization_2 (Batch  (None, 16, 16, 64)       256       \n",
      " Normalization)                                                  \n",
      "                                                                 \n",
      " pooling_2 (MaxPooling2D)    (None, 16, 16, 64)        0         \n",
      "                                                                 \n",
      " dropout (Dropout)           (None, 16, 16, 64)        0         \n",
      "                                                                 \n",
      " flatten (Flatten)           (None, 16384)             0         \n",
      "                                                                 \n",
      " dense_1 (Dense)             (None, 256)               4194560   \n",
      "                                                                 \n",
      " activation_3 (LeakyReLU)    (None, 256)               0         \n",
      "                                                                 \n",
      " dense_2 (Dense)             (None, 128)               32896     \n",
      "                                                                 \n",
      " activation_5 (LeakyReLU)    (None, 128)               0         \n",
      "                                                                 \n",
      " dense_3 (Dense)             (None, 3)                 387       \n",
      "                                                                 \n",
      " output (Softmax)            (None, 3)                 0         \n",
      "                                                                 \n",
      "=================================================================\n",
      "Total params: 4,236,899\n",
      "Trainable params: 4,236,707\n",
      "Non-trainable params: 192\n",
      "_________________________________________________________________\n",
      "None\n"
     ]
    }
   ],
   "source": [
    "print(model.summary())"
   ]
  },
  {
   "cell_type": "code",
   "execution_count": 4,
   "metadata": {},
   "outputs": [
    {
     "name": "stdout",
     "output_type": "stream",
     "text": [
      "You must install pydot (`pip install pydot`) and install graphviz (see instructions at https://graphviz.gitlab.io/download/) for plot_model to work.\n"
     ]
    },
    {
     "ename": "FileNotFoundError",
     "evalue": "[Errno 2] No such file or directory: 'my_model.jpg'",
     "output_type": "error",
     "traceback": [
      "\u001b[1;31m---------------------------------------------------------------------------\u001b[0m",
      "\u001b[1;31mFileNotFoundError\u001b[0m                         Traceback (most recent call last)",
      "\u001b[1;32mc:\\Users\\hp\\Documents\\GitHub\\Computer-Vision\\1.Getting_Started_with_Tensotflow_2.x\\5.Visualizing_a_models_architecture.ipynb Cell 4\u001b[0m in \u001b[0;36m<cell line: 5>\u001b[1;34m()\u001b[0m\n\u001b[0;32m      <a href='vscode-notebook-cell:/c%3A/Users/hp/Documents/GitHub/Computer-Vision/1.Getting_Started_with_Tensotflow_2.x/5.Visualizing_a_models_architecture.ipynb#W3sZmlsZQ%3D%3D?line=0'>1</a>\u001b[0m plot_model(model, \n\u001b[0;32m      <a href='vscode-notebook-cell:/c%3A/Users/hp/Documents/GitHub/Computer-Vision/1.Getting_Started_with_Tensotflow_2.x/5.Visualizing_a_models_architecture.ipynb#W3sZmlsZQ%3D%3D?line=1'>2</a>\u001b[0m            show_shapes\u001b[39m=\u001b[39m\u001b[39mTrue\u001b[39;00m,\n\u001b[0;32m      <a href='vscode-notebook-cell:/c%3A/Users/hp/Documents/GitHub/Computer-Vision/1.Getting_Started_with_Tensotflow_2.x/5.Visualizing_a_models_architecture.ipynb#W3sZmlsZQ%3D%3D?line=2'>3</a>\u001b[0m            show_layer_names\u001b[39m=\u001b[39m\u001b[39mTrue\u001b[39;00m,\n\u001b[0;32m      <a href='vscode-notebook-cell:/c%3A/Users/hp/Documents/GitHub/Computer-Vision/1.Getting_Started_with_Tensotflow_2.x/5.Visualizing_a_models_architecture.ipynb#W3sZmlsZQ%3D%3D?line=3'>4</a>\u001b[0m            to_file\u001b[39m=\u001b[39m\u001b[39m'\u001b[39m\u001b[39mmy_model.jpg\u001b[39m\u001b[39m'\u001b[39m)\n\u001b[1;32m----> <a href='vscode-notebook-cell:/c%3A/Users/hp/Documents/GitHub/Computer-Vision/1.Getting_Started_with_Tensotflow_2.x/5.Visualizing_a_models_architecture.ipynb#W3sZmlsZQ%3D%3D?line=4'>5</a>\u001b[0m model_diagram \u001b[39m=\u001b[39m Image\u001b[39m.\u001b[39;49mopen(\u001b[39m'\u001b[39;49m\u001b[39mmy_model.jpg\u001b[39;49m\u001b[39m'\u001b[39;49m)\n",
      "File \u001b[1;32mc:\\Users\\hp\\anaconda3\\lib\\site-packages\\PIL\\Image.py:2953\u001b[0m, in \u001b[0;36mopen\u001b[1;34m(fp, mode, formats)\u001b[0m\n\u001b[0;32m   2950\u001b[0m     filename \u001b[39m=\u001b[39m fp\n\u001b[0;32m   2952\u001b[0m \u001b[39mif\u001b[39;00m filename:\n\u001b[1;32m-> 2953\u001b[0m     fp \u001b[39m=\u001b[39m builtins\u001b[39m.\u001b[39;49mopen(filename, \u001b[39m\"\u001b[39;49m\u001b[39mrb\u001b[39;49m\u001b[39m\"\u001b[39;49m)\n\u001b[0;32m   2954\u001b[0m     exclusive_fp \u001b[39m=\u001b[39m \u001b[39mTrue\u001b[39;00m\n\u001b[0;32m   2956\u001b[0m \u001b[39mtry\u001b[39;00m:\n",
      "\u001b[1;31mFileNotFoundError\u001b[0m: [Errno 2] No such file or directory: 'my_model.jpg'"
     ]
    }
   ],
   "source": [
    "plot_model(model, \n",
    "           show_shapes=True,\n",
    "           show_layer_names=True,\n",
    "           to_file='my_model.jpg')\n",
    "model_diagram = Image.open('my_model.jpg')"
   ]
  },
  {
   "cell_type": "code",
   "execution_count": 4,
   "metadata": {},
   "outputs": [
    {
     "name": "stdout",
     "output_type": "stream",
     "text": [
      "You must install pydot (`pip install pydot`) and install graphviz (see instructions at https://graphviz.gitlab.io/download/) for plot_model to work.\n"
     ]
    },
    {
     "ename": "FileNotFoundError",
     "evalue": "[Errno 2] No such file or directory: 'my_model.jpg'",
     "output_type": "error",
     "traceback": [
      "\u001b[1;31m---------------------------------------------------------------------------\u001b[0m",
      "\u001b[1;31mFileNotFoundError\u001b[0m                         Traceback (most recent call last)",
      "Input \u001b[1;32mIn [4]\u001b[0m, in \u001b[0;36m<cell line: 3>\u001b[1;34m()\u001b[0m\n\u001b[0;32m      1\u001b[0m plot_model(model, show_shapes\u001b[38;5;241m=\u001b[39m\u001b[38;5;28;01mTrue\u001b[39;00m, show_layer_names\u001b[38;5;241m=\u001b[39m\u001b[38;5;28;01mTrue\u001b[39;00m, to_file\u001b[38;5;241m=\u001b[39m\u001b[38;5;124m'\u001b[39m\u001b[38;5;124mmy_model.jpg\u001b[39m\u001b[38;5;124m'\u001b[39m)\n\u001b[1;32m----> 3\u001b[0m model_diagram \u001b[38;5;241m=\u001b[39m \u001b[43mImage\u001b[49m\u001b[38;5;241;43m.\u001b[39;49m\u001b[43mopen\u001b[49m\u001b[43m(\u001b[49m\u001b[38;5;124;43m'\u001b[39;49m\u001b[38;5;124;43mmy_model.jpg\u001b[39;49m\u001b[38;5;124;43m'\u001b[39;49m\u001b[43m)\u001b[49m\n\u001b[0;32m      4\u001b[0m model_diagram\u001b[38;5;241m.\u001b[39mshow()\n",
      "File \u001b[1;32m~\\anaconda3\\lib\\site-packages\\PIL\\Image.py:2953\u001b[0m, in \u001b[0;36mopen\u001b[1;34m(fp, mode, formats)\u001b[0m\n\u001b[0;32m   2950\u001b[0m     filename \u001b[38;5;241m=\u001b[39m fp\n\u001b[0;32m   2952\u001b[0m \u001b[38;5;28;01mif\u001b[39;00m filename:\n\u001b[1;32m-> 2953\u001b[0m     fp \u001b[38;5;241m=\u001b[39m \u001b[43mbuiltins\u001b[49m\u001b[38;5;241;43m.\u001b[39;49m\u001b[43mopen\u001b[49m\u001b[43m(\u001b[49m\u001b[43mfilename\u001b[49m\u001b[43m,\u001b[49m\u001b[43m \u001b[49m\u001b[38;5;124;43m\"\u001b[39;49m\u001b[38;5;124;43mrb\u001b[39;49m\u001b[38;5;124;43m\"\u001b[39;49m\u001b[43m)\u001b[49m\n\u001b[0;32m   2954\u001b[0m     exclusive_fp \u001b[38;5;241m=\u001b[39m \u001b[38;5;28;01mTrue\u001b[39;00m\n\u001b[0;32m   2956\u001b[0m \u001b[38;5;28;01mtry\u001b[39;00m:\n",
      "\u001b[1;31mFileNotFoundError\u001b[0m: [Errno 2] No such file or directory: 'my_model.jpg'"
     ]
    }
   ],
   "source": [
    "plot_model(model, show_shapes=True, show_layer_names=True, to_file='my_model.jpg')\n",
    "\n",
    "model_diagram = Image.open('my_model.jpg')\n",
    "model_diagram.show()"
   ]
  },
  {
   "cell_type": "code",
   "execution_count": null,
   "metadata": {},
   "outputs": [],
   "source": []
  }
 ],
 "metadata": {
  "kernelspec": {
   "display_name": "Python 3 (ipykernel)",
   "language": "python",
   "name": "python3"
  },
  "language_info": {
   "codemirror_mode": {
    "name": "ipython",
    "version": 3
   },
   "file_extension": ".py",
   "mimetype": "text/x-python",
   "name": "python",
   "nbconvert_exporter": "python",
   "pygments_lexer": "ipython3",
   "version": "3.9.12"
  }
 },
 "nbformat": 4,
 "nbformat_minor": 2
}
