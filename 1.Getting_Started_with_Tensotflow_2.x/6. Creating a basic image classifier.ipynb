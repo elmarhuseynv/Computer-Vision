{
 "cells": [
  {
   "attachments": {},
   "cell_type": "markdown",
   "metadata": {},
   "source": [
    "# 1. Import the necessary packages"
   ]
  },
  {
   "cell_type": "code",
   "execution_count": 17,
   "metadata": {},
   "outputs": [],
   "source": [
    "import matplotlib.pyplot as plt\n",
    "import numpy as np\n",
    "import tensorflow as tf\n",
    "import tensorflow_docs as tfdocs\n",
    "import tensorflow_docs.plots\n",
    "from sklearn.model_selection import train_test_split\n",
    "from sklearn.preprocessing import LabelBinarizer\n",
    "from tensorflow.keras.datasets import fashion_mnist as fm\n",
    "from tensorflow.keras.layers import *\n",
    "from tensorflow.keras.models import *\n",
    "from tensorflow.keras.utils import plot_model"
   ]
  },
  {
   "attachments": {},
   "cell_type": "markdown",
   "metadata": {},
   "source": [
    "# 2. Define a function to load and prepare the dataset"
   ]
  },
  {
   "cell_type": "code",
   "execution_count": 26,
   "metadata": {},
   "outputs": [],
   "source": [
    "def load_dataset():\n",
    "    (X_train, y_train), (X_test, y_test) = fm.load_data()\n",
    "\n",
    "    X_train = X_train.astype('float32') / 255.0\n",
    "    X_test = X_test.astype('float32') / 255.0\n",
    "\n",
    "    X_train = np.expand_dims(X_train, axis=3)\n",
    "    X_test = np.expand_dims(X_test, axis=3)\n",
    "\n",
    "    label_binarizer = LabelBinarizer()\n",
    "    y_train = label_binarizer.fit_transform(y_train)\n",
    "    y_test = label_binarizer.fit_transform(y_test)\n",
    "\n",
    "    (X_train, X_val, y_train, y_val) = train_test_split(X_train, y_train, \n",
    "                                                        train_size=0.8)\n",
    "    train_ds = (tf.data.Dataset.from_tensor_slices((X_train, y_train)))\n",
    "    val_ds = (tf.data.Dataset.from_tensor_slices((X_val, y_val)))\n",
    "    test_ds = (tf.data.Dataset.from_tensor_slices((X_test, y_test)))\n",
    "\n",
    "    return train_ds, val_ds, test_ds\n"
   ]
  },
  {
   "attachments": {},
   "cell_type": "markdown",
   "metadata": {},
   "source": [
    "# 3. Build a network"
   ]
  },
  {
   "cell_type": "code",
   "execution_count": 27,
   "metadata": {},
   "outputs": [],
   "source": [
    "def build_network():\n",
    "    input_layer = Input(shape=(28, 28, 1))\n",
    "    x = Conv2D(filters=20,\n",
    "               kernel_size=(5,5),\n",
    "               padding='same',\n",
    "               strides=(1,1))(input_layer)\n",
    "    x = ELU()(x)\n",
    "    x = BatchNormalization()(x)\n",
    "    x = MaxPooling2D(pool_size=(2,2),\n",
    "                     strides=(2,2))(x)\n",
    "    x = Dropout(rate=0.5)(x)\n",
    "\n",
    "    x = Conv2D(filters = 50,\n",
    "               kernel_size= (5,5),\n",
    "               padding='same',\n",
    "               strides=(1,1))(x)\n",
    "    x = ELU()(x)\n",
    "    x = BatchNormalization()(x)\n",
    "    x = MaxPooling2D(pool_size=(2,2),\n",
    "                     strides=(1,1))(x)\n",
    "    x = Dropout(rate=0.5)(x)\n",
    "\n",
    "    x = Flatten()(x)\n",
    "    x = Dense(units=500)(x)\n",
    "    x = ELU()(x)\n",
    "    x = Dropout(rate=0.5)(x)\n",
    "    x = Dense(units=10)(x)\n",
    "\n",
    "    output = Softmax()(x)\n",
    "\n",
    "    model = Model(inputs=input_layer, outputs=output)\n",
    "    return model\n",
    "    "
   ]
  },
  {
   "attachments": {},
   "cell_type": "markdown",
   "metadata": {},
   "source": [
    "# 4. Defien a function that takes a model's history"
   ]
  },
  {
   "cell_type": "code",
   "execution_count": 28,
   "metadata": {},
   "outputs": [],
   "source": [
    "def plot_model_history(model_history, metric, ylim=None):\n",
    "    plt.style.use('seaborn-darkgrid')\n",
    "    plotter = tfdocs.plots.HistoryPlotter()\n",
    "    plotter.plot({'Model': model_history}, metric=metric)\n",
    "\n",
    "    plt.title(f'{metric.upper()}')\n",
    "    if ylim is None:\n",
    "        plt.ylim([0, 1])\n",
    "    else:\n",
    "        plt.ylim(ylim)\n",
    "    \n",
    "    plt.savefig(f'{metric}.png')\n",
    "    plt.close()"
   ]
  },
  {
   "attachments": {},
   "cell_type": "markdown",
   "metadata": {},
   "source": [
    "# 5. Consume the training and validation"
   ]
  },
  {
   "cell_type": "code",
   "execution_count": 29,
   "metadata": {},
   "outputs": [],
   "source": [
    "BATCH_SIZE = 256\n",
    "BUFFER_SIZE = 1024\n",
    "\n",
    "train_dataset, val_dataset, test_dataset = load_dataset()\n",
    "\n",
    "train_dataset = (train_dataset\n",
    "                 .shuffle(buffer_size=BUFFER_SIZE)\n",
    "                 .batch(BATCH_SIZE)\n",
    "                 .prefetch(buffer_size=BUFFER_SIZE))\n",
    "val_dataset = (val_dataset\n",
    "               .batch(BATCH_SIZE)\n",
    "               .prefetch(buffer_size=BUFFER_SIZE))\n",
    "test_dataset = test_dataset.batch(BATCH_SIZE)\n"
   ]
  },
  {
   "attachments": {},
   "cell_type": "markdown",
   "metadata": {},
   "source": []
  },
  {
   "cell_type": "code",
   "execution_count": null,
   "metadata": {},
   "outputs": [],
   "source": []
  }
 ],
 "metadata": {
  "kernelspec": {
   "display_name": "base",
   "language": "python",
   "name": "python3"
  },
  "language_info": {
   "codemirror_mode": {
    "name": "ipython",
    "version": 3
   },
   "file_extension": ".py",
   "mimetype": "text/x-python",
   "name": "python",
   "nbconvert_exporter": "python",
   "pygments_lexer": "ipython3",
   "version": "3.9.12"
  },
  "orig_nbformat": 4
 },
 "nbformat": 4,
 "nbformat_minor": 2
}
