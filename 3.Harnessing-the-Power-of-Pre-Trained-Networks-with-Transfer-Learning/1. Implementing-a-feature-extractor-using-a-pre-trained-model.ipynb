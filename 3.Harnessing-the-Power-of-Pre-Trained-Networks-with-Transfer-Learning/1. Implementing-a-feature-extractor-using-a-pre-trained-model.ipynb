{
 "cells": [
  {
   "cell_type": "code",
   "execution_count": 1,
   "metadata": {},
   "outputs": [],
   "source": [
    "import glob\n",
    "import os\n",
    "import pathlib\n",
    "import numpy as np\n",
    "import sklearn.utils as skutils\n",
    "from sklearn.preprocessing import LabelBinarizer\n",
    "from tensorflow.keras.applications import imagenet_utils\n",
    "from tensorflow.keras.applications.vgg16 import VGG16\n",
    "from tensorflow.keras.preprocessing.image import *\n",
    "from tqdm import tqdm"
   ]
  },
  {
   "cell_type": "code",
   "execution_count": 2,
   "metadata": {},
   "outputs": [],
   "source": [
    "class FeatureExtractor():\n",
    "    def __init__(self,\n",
    "                 model,\n",
    "                 input_size,\n",
    "                 label_encoder,\n",
    "                 num_instance,\n",
    "                 feature_size,\n",
    "                 output_path,\n",
    "                 features_key='feature',\n",
    "                 buffer_size=1000):\n",
    "        \n",
    "        if os.path.exists(output_path):\n",
    "            error_mag= (f'{output_path} already exists.'\n",
    "                        f'Please delete it and try again.')\n",
    "            raise FileExistsError(error_mag)\n",
    "        \n",
    "        self.model = model\n",
    "        self.input_size = input_size\n",
    "        self.le = label_encoder"
   ]
  },
  {
   "cell_type": "code",
   "execution_count": null,
   "metadata": {},
   "outputs": [],
   "source": []
  }
 ],
 "metadata": {
  "kernelspec": {
   "display_name": "base",
   "language": "python",
   "name": "python3"
  },
  "language_info": {
   "codemirror_mode": {
    "name": "ipython",
    "version": 3
   },
   "file_extension": ".py",
   "mimetype": "text/x-python",
   "name": "python",
   "nbconvert_exporter": "python",
   "pygments_lexer": "ipython3",
   "version": "3.10.11"
  },
  "orig_nbformat": 4
 },
 "nbformat": 4,
 "nbformat_minor": 2
}
