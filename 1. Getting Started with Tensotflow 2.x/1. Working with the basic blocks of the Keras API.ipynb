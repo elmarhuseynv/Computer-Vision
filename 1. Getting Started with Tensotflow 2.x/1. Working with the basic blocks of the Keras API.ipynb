{
 "cells": [
  {
   "attachments": {},
   "cell_type": "markdown",
   "id": "272fc9a0",
   "metadata": {},
   "source": [
    "# Import required libraries"
   ]
  },
  {
   "cell_type": "code",
   "execution_count": 1,
   "id": "bf3cdb22",
   "metadata": {},
   "outputs": [],
   "source": [
    "from sklearn.model_selection import train_test_split\n",
    "from sklearn.preprocessing import LabelBinarizer\n",
    "from tensorflow.keras import Input\n",
    "from tensorflow.keras.datasets import mnist\n",
    "from tensorflow.keras.layers import Dense\n",
    "from tensorflow.keras.models import Model\n",
    "from tensorflow.keras.models import Sequential"
   ]
  },
  {
   "attachments": {},
   "cell_type": "markdown",
   "id": "2cbad4c2",
   "metadata": {},
   "source": [
    "# Create model using Sequential API"
   ]
  },
  {
   "cell_type": "code",
   "execution_count": 2,
   "id": "c7bfda99",
   "metadata": {},
   "outputs": [],
   "source": [
    "layers = [Dense(256, input_shape=(28*28*1,), activation='sigmoid'),\n",
    "         Dense(128, activation='sigmoid'),\n",
    "         Dense(10, activation='softmax')]\n",
    "sequential_model_list = Sequential(layers)"
   ]
  },
  {
   "attachments": {},
   "cell_type": "markdown",
   "id": "b9e024c4",
   "metadata": {},
   "source": [
    "# Create model using add() method"
   ]
  },
  {
   "cell_type": "code",
   "execution_count": 3,
   "id": "7466b18c",
   "metadata": {},
   "outputs": [],
   "source": [
    "sequential_model = Sequential()\n",
    "sequential_model.add(Dense(256, input_shape=(28*28*1,), activation='sigmoid'))\n",
    "sequential_model.add(Dense(128, activation='sigmoid'))\n",
    "sequential_model.add(Dense(10, activation='softmax'))"
   ]
  },
  {
   "attachments": {},
   "cell_type": "markdown",
   "id": "182d59a8",
   "metadata": {},
   "source": [
    "# Create model using the Functional API"
   ]
  },
  {
   "cell_type": "code",
   "execution_count": 4,
   "id": "a381bf3f",
   "metadata": {},
   "outputs": [],
   "source": [
    "input_layer = Input(shape=(28*28*1,))\n",
    "dense1 = Dense(256, activation='sigmoid')(input_layer)\n",
    "dense2 = Dense(126, activation='sigmoid')(dense1)\n",
    "predictions = Dense(10, activation='softmax')(dense2)\n",
    "functional_model = Model(inputs=input_layer, outputs=predictions)"
   ]
  },
  {
   "attachments": {},
   "cell_type": "markdown",
   "id": "c6229bec",
   "metadata": {},
   "source": [
    "# Create a model using object-oriented approach"
   ]
  },
  {
   "cell_type": "code",
   "execution_count": 5,
   "id": "a1005316",
   "metadata": {},
   "outputs": [],
   "source": [
    "class Classequential_modelodel(Model):\n",
    "    def __init__(self):\n",
    "        super(Classequential_modelodel, self).__init__()\n",
    "\n",
    "        self.dense_1 = Dense(256, activation='sigmoid')\n",
    "        self.dense_2 = Dense(256, activation='sigmoid')\n",
    "        self.predictions = Dense(10, activation='softmax')\n",
    "\n",
    "    def call(self, inputs, **kwargs):\n",
    "        x = self.dense_1(inputs)\n",
    "        x = self.dense_2(x)\n",
    "\n",
    "        return self.predictions(x)\n",
    "\n",
    "\n",
    "class_model = Classequential_modelodel()"
   ]
  },
  {
   "attachments": {},
   "cell_type": "markdown",
   "id": "5ffa061f",
   "metadata": {},
   "source": [
    "# Prepare the data"
   ]
  },
  {
   "cell_type": "code",
   "execution_count": 6,
   "id": "2aedd39b",
   "metadata": {},
   "outputs": [],
   "source": [
    "(X_train, y_train), (X_test, y_test) = mnist.load_data()\n",
    "X_train = X_train.reshape((X_train.shape[0], 28*28*1))\n",
    "X_test = X_test.reshape((X_test.shape[0], 28*28*1))"
   ]
  },
  {
   "attachments": {},
   "cell_type": "markdown",
   "id": "eeac1352",
   "metadata": {},
   "source": [
    "# One-hot encode the labels"
   ]
  },
  {
   "cell_type": "code",
   "execution_count": 7,
   "id": "84936486",
   "metadata": {},
   "outputs": [],
   "source": [
    "label_binarizer = LabelBinarizer()\n",
    "y_train = label_binarizer.fit_transform(y_train)\n",
    "y_test = label_binarizer.fit_transform(y_test)"
   ]
  },
  {
   "attachments": {},
   "cell_type": "markdown",
   "id": "cf254205",
   "metadata": {},
   "source": [
    "# Taking 20% of data for validation"
   ]
  },
  {
   "cell_type": "code",
   "execution_count": 8,
   "id": "1b425261",
   "metadata": {},
   "outputs": [],
   "source": [
    "X_train, X_valid, y_train, y_valid = train_test_split(X_train, y_train, train_size=0.8)"
   ]
  },
  {
   "attachments": {},
   "cell_type": "markdown",
   "id": "e9466d1d",
   "metadata": {},
   "source": [
    "# Compile, Train and Evaluate"
   ]
  },
  {
   "cell_type": "code",
   "execution_count": 9,
   "id": "3ad1f171",
   "metadata": {},
   "outputs": [
    {
     "name": "stdout",
     "output_type": "stream",
     "text": [
      "Compiling model: sequential_model\n",
      "Training model: sequential_model\n",
      "Testing model: sequential_model. \n",
      "Accuracy: 0.9624000191688538\n",
      "---\n",
      "Compiling model: sequential_model_list\n",
      "Training model: sequential_model_list\n",
      "Testing model: sequential_model_list. \n",
      "Accuracy: 0.9602000117301941\n",
      "---\n",
      "Compiling model: functional_model\n",
      "Training model: functional_model\n",
      "Testing model: functional_model. \n",
      "Accuracy: 0.9607999920845032\n",
      "---\n",
      "Compiling model: class_model\n",
      "Training model: class_model\n",
      "Testing model: class_model. \n",
      "Accuracy: 0.9642999768257141\n",
      "---\n"
     ]
    }
   ],
   "source": [
    "models = {\n",
    "    'sequential_model': sequential_model,\n",
    "    'sequential_model_list': sequential_model_list,\n",
    "    'functional_model': functional_model,\n",
    "    'class_model': class_model\n",
    "}\n",
    "\n",
    "for name, model in models.items():\n",
    "    print(f'Compiling model: {name}')\n",
    "    model.compile(loss='categorical_crossentropy', optimizer='adam', metrics=['accuracy'])\n",
    "\n",
    "    print(f'Training model: {name}')\n",
    "    model.fit(X_train, y_train,\n",
    "              validation_data=(X_valid, y_valid),\n",
    "              epochs=50,\n",
    "              batch_size=256,\n",
    "              verbose=0)\n",
    "\n",
    "    _, accuracy = model.evaluate(X_test, y_test, verbose=0)\n",
    "    print(f'Testing model: {name}. \\nAccuracy: {accuracy}')\n",
    "    print('---')"
   ]
  }
 ],
 "metadata": {
  "kernelspec": {
   "display_name": "Python 3 (ipykernel)",
   "language": "python",
   "name": "python3"
  },
  "language_info": {
   "codemirror_mode": {
    "name": "ipython",
    "version": 3
   },
   "file_extension": ".py",
   "mimetype": "text/x-python",
   "name": "python",
   "nbconvert_exporter": "python",
   "pygments_lexer": "ipython3",
   "version": "3.9.12"
  }
 },
 "nbformat": 4,
 "nbformat_minor": 5
}
