{
 "cells": [
  {
   "cell_type": "markdown",
   "id": "272fc9a0",
   "metadata": {},
   "source": [
    "# Import required libraries"
   ]
  },
  {
   "cell_type": "code",
   "execution_count": 6,
   "id": "bf3cdb22",
   "metadata": {},
   "outputs": [],
   "source": [
    "from sklearn.model_selection import train_test_split\n",
    "from sklearn.preprocessing import LabelBinarizer\n",
    "from tensorflow.keras import Input\n",
    "from tensorflow.keras.datasets import mnist\n",
    "from tensorflow.keras.layers import Dense\n",
    "from tensorflow.keras.models import Model\n",
    "from tensorflow.keras.models import Sequential"
   ]
  },
  {
   "cell_type": "markdown",
   "id": "2cbad4c2",
   "metadata": {},
   "source": [
    "# Create model using Sequential API"
   ]
  },
  {
   "cell_type": "code",
   "execution_count": 13,
   "id": "c7bfda99",
   "metadata": {},
   "outputs": [],
   "source": [
    "layers = [Dense(256, input_shape=(28*28*1,), activation='sigmoid'),\n",
    "         Dense(128, activation='sigmoid'),\n",
    "         Dense(10, activation='softmax')]\n",
    "sequential_model_list = Sequential(layers)"
   ]
  },
  {
   "cell_type": "markdown",
   "id": "b9e024c4",
   "metadata": {},
   "source": [
    "# Create model using add() method"
   ]
  },
  {
   "cell_type": "code",
   "execution_count": 14,
   "id": "7466b18c",
   "metadata": {},
   "outputs": [],
   "source": [
    "sm = Sequential()\n",
    "sm.add(Dense(256, input_shape=(28*28*1,), activation='sigmoid'))\n",
    "sm.add(Dense(128, activation='sigmoid'))\n",
    "sm.add(Dense(10, activation='softmax'))"
   ]
  },
  {
   "cell_type": "markdown",
   "id": "182d59a8",
   "metadata": {},
   "source": [
    "# Create model using the Functional API"
   ]
  },
  {
   "cell_type": "code",
   "execution_count": 17,
   "id": "a381bf3f",
   "metadata": {},
   "outputs": [],
   "source": [
    "input_layer = Input(shape=(28*28*1,))\n",
    "dense1 = Dense(256, activation='sigmoid')(input_layer)\n",
    "dense2 = Dense(126, activation='sigmoid')(dense1)\n",
    "predictions = Dense(10, activation='softmax')(dense2)\n",
    "functional_model = Model(inputs=input_layer, outputs=predictions)"
   ]
  },
  {
   "cell_type": "code",
   "execution_count": null,
   "id": "111038db",
   "metadata": {},
   "outputs": [],
   "source": []
  }
 ],
 "metadata": {
  "kernelspec": {
   "display_name": "Python 3 (ipykernel)",
   "language": "python",
   "name": "python3"
  },
  "language_info": {
   "codemirror_mode": {
    "name": "ipython",
    "version": 3
   },
   "file_extension": ".py",
   "mimetype": "text/x-python",
   "name": "python",
   "nbconvert_exporter": "python",
   "pygments_lexer": "ipython3",
   "version": "3.9.12"
  }
 },
 "nbformat": 4,
 "nbformat_minor": 5
}
