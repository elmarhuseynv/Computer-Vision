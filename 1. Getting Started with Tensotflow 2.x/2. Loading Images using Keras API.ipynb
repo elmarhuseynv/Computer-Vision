{
 "cells": [
  {
   "attachments": {},
   "cell_type": "markdown",
   "metadata": {},
   "source": [
    "# 1. Import the necesarry packages"
   ]
  },
  {
   "cell_type": "code",
   "execution_count": 1,
   "metadata": {},
   "outputs": [],
   "source": [
    "import glob\n",
    "import os \n",
    "import tarfile\n",
    "import matplotlib.pyplot as plt\n",
    "from tensorflow.keras.preprocessing.image import ImageDataGenerator\n",
    "from tensorflow.keras.preprocessing.image import load_img, img_to_array\n",
    "from tensorflow.keras.utils import get_file\n"
   ]
  },
  {
   "attachments": {},
   "cell_type": "markdown",
   "metadata": {},
   "source": [
    "# 2. Define the URL"
   ]
  },
  {
   "cell_type": "code",
   "execution_count": 2,
   "metadata": {},
   "outputs": [],
   "source": [
    "DATASET_URL = 'https://datashare.is.ed.ac.uk/bitstream/handle/10283/3192/CINIC-10.tar.gz?sequence=4&isAllowed=y'\n",
    "DATA_NAME = 'cinic10'\n",
    "FILE_EXTENSION = 'tar.gz'\n",
    "FILE_NAME = '.'.join([DATA_NAME, FILE_EXTENSION])"
   ]
  },
  {
   "attachments": {},
   "cell_type": "markdown",
   "metadata": {},
   "source": [
    "# 3. Download and decompress the data"
   ]
  },
  {
   "cell_type": "code",
   "execution_count": 3,
   "metadata": {},
   "outputs": [],
   "source": [
    "downloaded_file_location = get_file(origin=DATASET_URL, fname=FILE_NAME, extract=False)\n",
    "\n",
    "data_directory, _ = downloaded_file_location.rsplit(os.path.sep, maxsplit=1)\n",
    "data_directory = os.path.sep.join([data_directory, DATA_NAME])\n",
    "tar = tarfile.open(downloaded_file_location)\n",
    "\n",
    "if not os.path.exists(data_directory):\n",
    "    tar.extractall(data_directory)"
   ]
  },
  {
   "attachments": {},
   "cell_type": "markdown",
   "metadata": {},
   "source": [
    "# 4. Load all image apths and print the number of images found"
   ]
  },
  {
   "cell_type": "code",
   "execution_count": 4,
   "metadata": {},
   "outputs": [
    {
     "name": "stdout",
     "output_type": "stream",
     "text": [
      "Data downloaded to C:\\Users\\hp\\.keras\\datasets\\cinic10\n"
     ]
    },
    {
     "ename": "IndexError",
     "evalue": "list index out of range",
     "output_type": "error",
     "traceback": [
      "\u001b[1;31m---------------------------------------------------------------------------\u001b[0m",
      "\u001b[1;31mIndexError\u001b[0m                                Traceback (most recent call last)",
      "\u001b[1;32mc:\\Users\\hp\\Documents\\GitHub\\Computer-Vision\\1. Getting Started with Tensotflow 2.x\\2. Loading Images using Keras API.ipynb Cell 8\u001b[0m in \u001b[0;36m<cell line: 5>\u001b[1;34m()\u001b[0m\n\u001b[0;32m      <a href='vscode-notebook-cell:/c%3A/Users/hp/Documents/GitHub/Computer-Vision/1.%20Getting%20Started%20with%20Tensotflow%202.x/2.%20Loading%20Images%20using%20Keras%20API.ipynb#X10sZmlsZQ%3D%3D?line=1'>2</a>\u001b[0m data_pattern \u001b[39m=\u001b[39m os\u001b[39m.\u001b[39mpath\u001b[39m.\u001b[39msep\u001b[39m.\u001b[39mjoin([data_directory, \u001b[39m'\u001b[39m\u001b[39m*/*/*.png\u001b[39m\u001b[39m'\u001b[39m])\n\u001b[0;32m      <a href='vscode-notebook-cell:/c%3A/Users/hp/Documents/GitHub/Computer-Vision/1.%20Getting%20Started%20with%20Tensotflow%202.x/2.%20Loading%20Images%20using%20Keras%20API.ipynb#X10sZmlsZQ%3D%3D?line=3'>4</a>\u001b[0m image_paths \u001b[39m=\u001b[39m \u001b[39mlist\u001b[39m(glob\u001b[39m.\u001b[39mglob(data_pattern))\n\u001b[1;32m----> <a href='vscode-notebook-cell:/c%3A/Users/hp/Documents/GitHub/Computer-Vision/1.%20Getting%20Started%20with%20Tensotflow%202.x/2.%20Loading%20Images%20using%20Keras%20API.ipynb#X10sZmlsZQ%3D%3D?line=4'>5</a>\u001b[0m \u001b[39mprint\u001b[39m(\u001b[39mf\u001b[39m\u001b[39m'\u001b[39m\u001b[39mSample image path: \u001b[39m\u001b[39m{\u001b[39;00mimage_paths[\u001b[39m0\u001b[39m]\u001b[39m}\u001b[39;00m\u001b[39m'\u001b[39m)\n",
      "\u001b[1;31mIndexError\u001b[0m: list index out of range"
     ]
    }
   ],
   "source": [
    "print(f'Data downloaded to {data_directory}')\n",
    "data_pattern = os.path.sep.join([data_directory, '*/*/*.png'])\n",
    "\n",
    "image_paths = list(glob.glob(data_pattern))\n",
    "print(f'Sample image path: {image_paths[0]}')"
   ]
  }
 ],
 "metadata": {
  "kernelspec": {
   "display_name": "base",
   "language": "python",
   "name": "python3"
  },
  "language_info": {
   "codemirror_mode": {
    "name": "ipython",
    "version": 3
   },
   "file_extension": ".py",
   "mimetype": "text/x-python",
   "name": "python",
   "nbconvert_exporter": "python",
   "pygments_lexer": "ipython3",
   "version": "3.9.12"
  },
  "orig_nbformat": 4
 },
 "nbformat": 4,
 "nbformat_minor": 2
}
