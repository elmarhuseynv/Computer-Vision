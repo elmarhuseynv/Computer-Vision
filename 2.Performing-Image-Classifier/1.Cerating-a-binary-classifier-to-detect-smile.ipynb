{
 "cells": [
  {
   "cell_type": "code",
   "execution_count": 1,
   "metadata": {},
   "outputs": [],
   "source": [
    "import os\n",
    "import pathlib\n",
    "import glob\n",
    "import numpy as np\n",
    "from sklearn.model_selection import train_test_split\n",
    "from tensorflow.keras import  Model\n",
    "from tensorflow.keras.layers import *\n",
    "from tensorflow.keras.preprocessing.image import *"
   ]
  },
  {
   "cell_type": "code",
   "execution_count": 2,
   "metadata": {},
   "outputs": [],
   "source": [
    "def load_images_and_labels(image_paths):\n",
    "    images = []\n",
    "    labels = []\n",
    "\n",
    "    for image_path in image_paths:\n",
    "        image = load_img(image_path, target_size=(32,32),\n",
    "                         color_mode='grayscale')\n",
    "        image = img_to_array(image)\n",
    "\n",
    "        label = image_path.split(os.path.sep)[-2]\n",
    "        label = 'positive' in label\n",
    "        label = float(label)\n",
    "\n",
    "        images.append(image)\n",
    "        labels.append(label)\n",
    "    return np.array(images), np.array(labels)\n"
   ]
  },
  {
   "cell_type": "code",
   "execution_count": 3,
   "metadata": {},
   "outputs": [],
   "source": [
    "def build_network():\n",
    "    input_layer = Input(shape=(32,32,1))\n",
    "    x = Conv2D(filters=20, kernel_size=(5,5), padding='same', strides=(1,1))(input_layer)\n",
    "    x = ELU()(x)\n",
    "    x = BatchNormalization()(x)\n",
    "    x = MaxPool2D(pool_size=(2,2), strides=(2,2))(x)\n",
    "    x = Dropout(0.4)(x)\n",
    "\n",
    "    x = Conv2D(filters=50, kernel_size=(5,5), padding='same', strides=(1,1))(x)\n",
    "    x = ELU()(x)\n",
    "    x = BatchNormalization()(x)\n",
    "    x = MaxPooling2D(pool_size=(2,2), strides=(2,2))(x)\n",
    "    x = Dropout(0.4)(x)\n",
    "\n",
    "    x = Flatten()(x)\n",
    "    x = Dense(units=500)(x)\n",
    "    x = ELU()(x)\n",
    "    x = Dropout(0.4)(x)\n",
    "\n",
    "    output = Dense(1, activation='sigmoid')(x)\n",
    "\n",
    "    model = Model(inputs=input_layer, outputs=output)\n",
    "    return model\n"
   ]
  },
  {
   "cell_type": "code",
   "execution_count": 4,
   "metadata": {},
   "outputs": [],
   "source": [
    "files_pattern = ('C:/Users/hp/Documents/DATA/SMILEsmileD-master/SMILEs/*/*/*.jpg')\n",
    "files_pattern = str(files_pattern)\n",
    "dataset_paths = [*glob.glob(files_pattern)]"
   ]
  },
  {
   "cell_type": "code",
   "execution_count": 5,
   "metadata": {},
   "outputs": [],
   "source": [
    "X, y = load_images_and_labels(dataset_paths)"
   ]
  },
  {
   "cell_type": "code",
   "execution_count": 6,
   "metadata": {},
   "outputs": [],
   "source": [
    "X /= 255.0\n",
    "total = len(y)\n",
    "total_positive = np.sum(y)\n",
    "total_negative = total - total_positive"
   ]
  },
  {
   "cell_type": "code",
   "execution_count": 7,
   "metadata": {},
   "outputs": [],
   "source": [
    "(X_train, X_test, y_train, y_test) = train_test_split(X, y, test_size=0.2, stratify=y, random_state=999)\n",
    "(X_train, X_val, y_train,y_val) = train_test_split(X_train, y_train, test_size=0.2, stratify=y_train, random_state=999)"
   ]
  },
  {
   "cell_type": "code",
   "execution_count": 8,
   "metadata": {},
   "outputs": [],
   "source": [
    "model = build_network()\n",
    "model.compile(loss='binary_crossentropy', optimizer='adam', metrics=['accuracy'])"
   ]
  },
  {
   "cell_type": "code",
   "execution_count": 9,
   "metadata": {},
   "outputs": [
    {
     "name": "stdout",
     "output_type": "stream",
     "text": [
      "Epoch 1/20\n",
      "264/264 [==============================] - 17s 61ms/step - loss: 1.4306 - accuracy: 0.7624 - val_loss: 1.2630 - val_accuracy: 0.5653\n",
      "Epoch 2/20\n",
      "264/264 [==============================] - 18s 69ms/step - loss: 0.8321 - accuracy: 0.8273 - val_loss: 0.3863 - val_accuracy: 0.8424\n",
      "Epoch 3/20\n",
      "264/264 [==============================] - 16s 60ms/step - loss: 0.7166 - accuracy: 0.8545 - val_loss: 0.6096 - val_accuracy: 0.8624\n",
      "Epoch 4/20\n",
      "264/264 [==============================] - 17s 64ms/step - loss: 0.6606 - accuracy: 0.8611 - val_loss: 0.3749 - val_accuracy: 0.8609\n",
      "Epoch 5/20\n",
      "264/264 [==============================] - 18s 69ms/step - loss: 0.6264 - accuracy: 0.8764 - val_loss: 0.2534 - val_accuracy: 0.8946\n",
      "Epoch 6/20\n",
      "264/264 [==============================] - 18s 69ms/step - loss: 0.5638 - accuracy: 0.8856 - val_loss: 0.3478 - val_accuracy: 0.8628\n",
      "Epoch 7/20\n",
      "264/264 [==============================] - 18s 67ms/step - loss: 0.5325 - accuracy: 0.8919 - val_loss: 0.2980 - val_accuracy: 0.8832\n",
      "Epoch 8/20\n",
      "264/264 [==============================] - 17s 64ms/step - loss: 0.4933 - accuracy: 0.8995 - val_loss: 0.2930 - val_accuracy: 0.8870\n",
      "Epoch 9/20\n",
      "264/264 [==============================] - 19s 72ms/step - loss: 0.4730 - accuracy: 0.9050 - val_loss: 0.2984 - val_accuracy: 0.8894\n",
      "Epoch 10/20\n",
      "264/264 [==============================] - 19s 70ms/step - loss: 0.4550 - accuracy: 0.9104 - val_loss: 0.4280 - val_accuracy: 0.8363\n",
      "Epoch 11/20\n",
      "264/264 [==============================] - 19s 71ms/step - loss: 0.4349 - accuracy: 0.9195 - val_loss: 0.3560 - val_accuracy: 0.8666\n",
      "Epoch 12/20\n",
      "264/264 [==============================] - 17s 66ms/step - loss: 0.4296 - accuracy: 0.9143 - val_loss: 0.2366 - val_accuracy: 0.9093\n",
      "Epoch 13/20\n",
      "264/264 [==============================] - 18s 68ms/step - loss: 0.4073 - accuracy: 0.9204 - val_loss: 0.3342 - val_accuracy: 0.8937\n",
      "Epoch 14/20\n",
      "264/264 [==============================] - 19s 71ms/step - loss: 0.3900 - accuracy: 0.9230 - val_loss: 0.2630 - val_accuracy: 0.9075\n",
      "Epoch 15/20\n",
      "264/264 [==============================] - 18s 69ms/step - loss: 0.3644 - accuracy: 0.9287 - val_loss: 0.2703 - val_accuracy: 0.9146\n",
      "Epoch 16/20\n",
      "264/264 [==============================] - 21s 78ms/step - loss: 0.3262 - accuracy: 0.9353 - val_loss: 0.3106 - val_accuracy: 0.9108\n",
      "Epoch 17/20\n",
      "264/264 [==============================] - 21s 77ms/step - loss: 0.3451 - accuracy: 0.9310 - val_loss: 0.2732 - val_accuracy: 0.9150\n",
      "Epoch 18/20\n",
      "264/264 [==============================] - 18s 68ms/step - loss: 0.3133 - accuracy: 0.9373 - val_loss: 0.3453 - val_accuracy: 0.8856\n",
      "Epoch 19/20\n",
      "264/264 [==============================] - 18s 68ms/step - loss: 0.2900 - accuracy: 0.9404 - val_loss: 0.2774 - val_accuracy: 0.9013\n",
      "Epoch 20/20\n",
      "264/264 [==============================] - 23s 85ms/step - loss: 0.2861 - accuracy: 0.9436 - val_loss: 0.2684 - val_accuracy: 0.8970\n"
     ]
    },
    {
     "data": {
      "text/plain": [
       "<keras.callbacks.History at 0x1b3d1960460>"
      ]
     },
     "execution_count": 9,
     "metadata": {},
     "output_type": "execute_result"
    }
   ],
   "source": [
    "BATCH_SIZE = 32\n",
    "EPOCHS = 20\n",
    "model.fit(X_train, y_train, validation_data=(X_val, y_val),\n",
    "          epochs = EPOCHS,\n",
    "          batch_size=BATCH_SIZE,\n",
    "          class_weight={1.0: total / total_positive,\n",
    "                        0.0: total / total_negative})"
   ]
  },
  {
   "cell_type": "code",
   "execution_count": 10,
   "metadata": {},
   "outputs": [
    {
     "name": "stdout",
     "output_type": "stream",
     "text": [
      "83/83 [==============================] - 1s 16ms/step - loss: 0.2463 - accuracy: 0.9096\n"
     ]
    }
   ],
   "source": [
    "test_loss, test_accuracy = model.evaluate(X_test, y_test)"
   ]
  }
 ],
 "metadata": {
  "kernelspec": {
   "display_name": "base",
   "language": "python",
   "name": "python3"
  },
  "language_info": {
   "codemirror_mode": {
    "name": "ipython",
    "version": 3
   },
   "file_extension": ".py",
   "mimetype": "text/x-python",
   "name": "python",
   "nbconvert_exporter": "python",
   "pygments_lexer": "ipython3",
   "version": "3.10.11"
  },
  "orig_nbformat": 4
 },
 "nbformat": 4,
 "nbformat_minor": 2
}
