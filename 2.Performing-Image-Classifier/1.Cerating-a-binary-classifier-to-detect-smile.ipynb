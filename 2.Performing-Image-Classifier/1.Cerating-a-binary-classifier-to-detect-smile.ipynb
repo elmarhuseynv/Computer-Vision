{
 "cells": [
  {
   "cell_type": "code",
   "execution_count": 8,
   "metadata": {},
   "outputs": [],
   "source": [
    "import os\n",
    "import pathlib\n",
    "import glob\n",
    "import numpy as np\n",
    "from sklearn.model_selection import train_test_split\n",
    "from tensorflow.keras import  Model\n",
    "from tensorflow.keras.layers import *\n",
    "from tensorflow.keras.preprocessing.image import *"
   ]
  },
  {
   "cell_type": "code",
   "execution_count": 9,
   "metadata": {},
   "outputs": [],
   "source": [
    "def load_images_and_labels(image_paths):\n",
    "    images = []\n",
    "    labels = []\n",
    "\n",
    "    for image_path in image_paths:\n",
    "        image = load_img(image_path, target_size=(32,32),\n",
    "                         color_mode='grayscale')\n",
    "        image = img_to_array(image)\n",
    "\n",
    "        label = image_path.split(os.path.sep)[-2]\n",
    "        label = 'positive' in label\n",
    "        label = float(label)\n",
    "\n",
    "        images.append(image)\n",
    "        labels.append(label)\n"
   ]
  },
  {
   "cell_type": "code",
   "execution_count": 10,
   "metadata": {},
   "outputs": [],
   "source": [
    "def build_network():\n",
    "    input_layer = Input_layer(shape=(32,32,1))\n",
    "    x = Conv2D(filters=20, kernel_size=(5,5), padding='same', strides=(1,1))(input_layer)\n",
    "    x = ELU()(x)\n",
    "    x = BatchNormalization()(x)\n",
    "    x = MaxPool2D(pool_size=(2,2), strides=(2,2))(x)\n",
    "    x = Dropout(0.4)(x)\n",
    "\n",
    "    x = Conv2D(filters=50, kernel_size=(5,5), padding='same', strides=(1,1))(x)\n",
    "    x = ELU()(x)\n",
    "    x = BatchNormalization()(x)\n",
    "    x = MaxPooling2D(pool_size=(2,2), strides=(2,2))(x)\n",
    "    x = Dropout(0.4)(x)\n",
    "\n",
    "    x = Flatten()(x)\n",
    "    x = Dense(units=500)(x)\n",
    "    x = ELU()(x)\n",
    "    x = Dropout(0.4)(x)\n",
    "\n",
    "    output = Dense(1, actovation='sigmoid')(x)\n",
    "\n",
    "    model = Model(inputs=input_layer, outputs=output)\n",
    "    return model\n"
   ]
  },
  {
   "cell_type": "code",
   "execution_count": 12,
   "metadata": {},
   "outputs": [],
   "source": [
    "files_pattern = ('C:/Users/hp/Documents/DATA/smiled/SMILEsmileD-master/*/*.jpg')\n",
    "files_pattern = str(files_pattern)\n",
    "dataset_paths = [*glob.glob(files_pattern)]"
   ]
  },
  {
   "cell_type": "code",
   "execution_count": 13,
   "metadata": {},
   "outputs": [
    {
     "ename": "TypeError",
     "evalue": "cannot unpack non-iterable NoneType object",
     "output_type": "error",
     "traceback": [
      "\u001b[1;31m---------------------------------------------------------------------------\u001b[0m",
      "\u001b[1;31mTypeError\u001b[0m                                 Traceback (most recent call last)",
      "\u001b[1;32mc:\\Users\\hp\\Documents\\GitHub\\Computer-Vision\\2.Performing Image Classifier\\1. Cerating a binary classifier to detect smile.ipynb Cell 5\u001b[0m in \u001b[0;36m<cell line: 1>\u001b[1;34m()\u001b[0m\n\u001b[1;32m----> <a href='vscode-notebook-cell:/c%3A/Users/hp/Documents/GitHub/Computer-Vision/2.Performing%20Image%20Classifier/1.%20Cerating%20a%20binary%20classifier%20to%20detect%20smile.ipynb#W4sZmlsZQ%3D%3D?line=0'>1</a>\u001b[0m X, y \u001b[39m=\u001b[39m load_images_and_labels(dataset_paths)\n",
      "\u001b[1;31mTypeError\u001b[0m: cannot unpack non-iterable NoneType object"
     ]
    }
   ],
   "source": [
    "X, y = load_images_and_labels(dataset_paths)"
   ]
  },
  {
   "cell_type": "code",
   "execution_count": 15,
   "metadata": {},
   "outputs": [
    {
     "ename": "NameError",
     "evalue": "name 'X' is not defined",
     "output_type": "error",
     "traceback": [
      "\u001b[1;31m---------------------------------------------------------------------------\u001b[0m",
      "\u001b[1;31mNameError\u001b[0m                                 Traceback (most recent call last)",
      "\u001b[1;32mc:\\Users\\hp\\Documents\\GitHub\\Computer-Vision\\2.Performing Image Classifier\\1. Cerating a binary classifier to detect smile.ipynb Cell 6\u001b[0m in \u001b[0;36m<cell line: 1>\u001b[1;34m()\u001b[0m\n\u001b[1;32m----> <a href='vscode-notebook-cell:/c%3A/Users/hp/Documents/GitHub/Computer-Vision/2.Performing%20Image%20Classifier/1.%20Cerating%20a%20binary%20classifier%20to%20detect%20smile.ipynb#W5sZmlsZQ%3D%3D?line=0'>1</a>\u001b[0m X \u001b[39m/\u001b[39m\u001b[39m=\u001b[39m \u001b[39m255.0\u001b[39m\n\u001b[0;32m      <a href='vscode-notebook-cell:/c%3A/Users/hp/Documents/GitHub/Computer-Vision/2.Performing%20Image%20Classifier/1.%20Cerating%20a%20binary%20classifier%20to%20detect%20smile.ipynb#W5sZmlsZQ%3D%3D?line=1'>2</a>\u001b[0m total \u001b[39m=\u001b[39m \u001b[39mlen\u001b[39m(y)\n\u001b[0;32m      <a href='vscode-notebook-cell:/c%3A/Users/hp/Documents/GitHub/Computer-Vision/2.Performing%20Image%20Classifier/1.%20Cerating%20a%20binary%20classifier%20to%20detect%20smile.ipynb#W5sZmlsZQ%3D%3D?line=2'>3</a>\u001b[0m total_positive \u001b[39m=\u001b[39m np\u001b[39m.\u001b[39msum(y)\n",
      "\u001b[1;31mNameError\u001b[0m: name 'X' is not defined"
     ]
    }
   ],
   "source": [
    "X /= 255.0\n",
    "total = len(y)\n",
    "total_positive = np.sum(y)\n",
    "totaol_negative = total - total.positive"
   ]
  },
  {
   "cell_type": "code",
   "execution_count": null,
   "metadata": {},
   "outputs": [],
   "source": []
  },
  {
   "cell_type": "code",
   "execution_count": null,
   "metadata": {},
   "outputs": [],
   "source": []
  },
  {
   "cell_type": "code",
   "execution_count": null,
   "metadata": {},
   "outputs": [],
   "source": []
  },
  {
   "cell_type": "code",
   "execution_count": null,
   "metadata": {},
   "outputs": [],
   "source": []
  }
 ],
 "metadata": {
  "kernelspec": {
   "display_name": "base",
   "language": "python",
   "name": "python3"
  },
  "language_info": {
   "codemirror_mode": {
    "name": "ipython",
    "version": 3
   },
   "file_extension": ".py",
   "mimetype": "text/x-python",
   "name": "python",
   "nbconvert_exporter": "python",
   "pygments_lexer": "ipython3",
   "version": "3.9.12"
  },
  "orig_nbformat": 4
 },
 "nbformat": 4,
 "nbformat_minor": 2
}
