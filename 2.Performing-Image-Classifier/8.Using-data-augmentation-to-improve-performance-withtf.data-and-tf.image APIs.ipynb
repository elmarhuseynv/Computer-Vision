{
 "cells": [
  {
   "cell_type": "code",
   "execution_count": 1,
   "metadata": {},
   "outputs": [],
   "source": [
    "import os\n",
    "import pathlib\n",
    "import numpy as np\n",
    "import matplotlib.pyplot as plt\n",
    "import glob\n",
    "import tensorflow as tf\n",
    "import tensorflow_docs as tfdocs\n",
    "import tensorflow_docs.plots\n",
    "from sklearn.model_selection import train_test_split\n",
    "from tensorflow.keras.layers import *\n",
    "from tensorflow.keras.models import Model"
   ]
  },
  {
   "cell_type": "code",
   "execution_count": 2,
   "metadata": {},
   "outputs": [],
   "source": [
    "AUTOTUNE = tf.data.experimental.AUTOTUNE"
   ]
  },
  {
   "cell_type": "code",
   "execution_count": 3,
   "metadata": {},
   "outputs": [],
   "source": [
    "def build_network(width, height, depth, classes):\n",
    "    input_layer = Input(shape=(width, height, depth))\n",
    "\n",
    "    x = Conv2D(filters=32,\n",
    "               kernel_size=(3,3),\n",
    "               padding='same')(input_layer)\n",
    "    x = ReLU()(x)\n",
    "    x = BatchNormalization(axis=-1)(x)\n",
    "    x = Conv2D(filters=32,\n",
    "               kernel_size=(3,3),\n",
    "               padding='same')(x)\n",
    "    x = ReLU()(x)\n",
    "    x = BatchNormalization(axis=-1)(x)\n",
    "    x = MaxPooling2D(pool_size=(2,2))(x)\n",
    "    x = Dropout(rate=0.25)(x)\\\n",
    "    \n",
    "    x = Conv2D(filters=64,\n",
    "               kernel_size=(3,3),\n",
    "               padding='same')(x)\n",
    "    x = ReLU()(x)\n",
    "    x = BatchNormalization(axis=-1)(x)\n",
    "    x = Conv2D(filters=64,\n",
    "               kernel_size=(3,3),\n",
    "               padding='same')(x)\n",
    "    x = ReLU()(x)\n",
    "    x = BatchNormalization(axis=-1)(x)\n",
    "    x = MaxPooling2D(pool_size=(2,2))(x)\n",
    "    x = Dropout(rate=0.25)(x)\n",
    "\n",
    "    x = Flatten()(x)\n",
    "    x = Dense(units=512)(x)\n",
    "    x = ReLU()(x)\n",
    "    x = BatchNormalization(axis=-1)(x)\n",
    "    x = Dropout(rate=0.5)(x)\n",
    "\n",
    "    x = Dense(units=classes)(x)\n",
    "    output = Softmax()(x)\n",
    "\n",
    "    return Model(input_layer, output)"
   ]
  },
  {
   "cell_type": "code",
   "execution_count": 4,
   "metadata": {},
   "outputs": [],
   "source": [
    "def plot_model_history(model_history, metric, plot_name):\n",
    "    plt.style.use('seaborn-darkgrid')\n",
    "    plotter = tfdocs.plots.HistoryPlotter()\n",
    "    plotter.plot({'Model': model_history}, metric=metric)\n",
    "    plt.title(f'{metric.upper()}')\n",
    "    plt.ylim([0, 1])\n",
    "    plt.savefig(f'{plot_name}.png')\n",
    "    plt.close()"
   ]
  },
  {
   "cell_type": "code",
   "execution_count": 5,
   "metadata": {},
   "outputs": [],
   "source": [
    "def load_image_and_label(image_path, target_size=(64,64)):\n",
    "    image = tf.io.read_file(image_path)\n",
    "    image = tf.image.decode_jpeg(image, channels=3)\n",
    "    image = tf.image.convert_image_dtype(image, np.float32)\n",
    "    image = tf.image.resize(image, target_size)\n",
    "\n",
    "    label = tf.strings.split(image_path, os.path.sep)[-2]\n",
    "    label = (label == CLASSES)\n",
    "    label = tf.dtypes.cast(label, tf.float32)\n",
    "    \n",
    "    return image, label"
   ]
  },
  {
   "cell_type": "code",
   "execution_count": 6,
   "metadata": {},
   "outputs": [],
   "source": [
    "def augment(image, label):\n",
    "    image = tf.image.resize_with_crop_or_pad(image, 74, 74)\n",
    "    image = tf.image.random_crop(image, size=(64,64,3))\n",
    "    image = tf.image.random_flip_left_right(image)\n",
    "    image = tf.image.random_brightness(image, 0.2)\n",
    "\n",
    "    return image, label"
   ]
  },
  {
   "cell_type": "code",
   "execution_count": 7,
   "metadata": {},
   "outputs": [],
   "source": [
    "def prepare_dataset(data_pattern):\n",
    "    return (tf.data.Dataset\n",
    "            .from_tensor_slices(data_pattern)\n",
    "            .map(load_image_and_label,\n",
    "                 num_parallel_calls=AUTOTUNE))"
   ]
  },
  {
   "cell_type": "code",
   "execution_count": 8,
   "metadata": {},
   "outputs": [],
   "source": [
    "SEED = 999\n",
    "np.random.seed(SEED)"
   ]
  },
  {
   "cell_type": "code",
   "execution_count": 9,
   "metadata": {},
   "outputs": [],
   "source": [
    "base_path = ('C:/Users/hp/Documents/DATA/caltech-101/101_ObjectCategories/*/*.jpg')\n",
    "image_pattern = str(base_path)\n",
    "image_paths = [*glob.glob(image_pattern)]\n",
    "image_paths = [p for p in image_paths if\n",
    "               p.split(os.path.sep)[-2] !=\n",
    "               'BACKGROUND_Google']"
   ]
  },
  {
   "cell_type": "code",
   "execution_count": 10,
   "metadata": {},
   "outputs": [],
   "source": [
    "CLASSES = np.unique([p.split(os.path.sep)[-2]\n",
    "                     for p in image_paths])"
   ]
  },
  {
   "cell_type": "code",
   "execution_count": 11,
   "metadata": {},
   "outputs": [],
   "source": [
    "train_paths, test_paths = train_test_split(image_paths, test_size=0.2, random_state=SEED)"
   ]
  },
  {
   "cell_type": "code",
   "execution_count": 12,
   "metadata": {},
   "outputs": [],
   "source": [
    "BATCH_SIZE = 64\n",
    "BUFFER_SIZE = 1024\n",
    "train_dataset = (prepare_dataset(train_paths)\n",
    "                 .batch(BATCH_SIZE)\n",
    "                 .shuffle(buffer_size=BUFFER_SIZE)\n",
    "                 .prefetch(buffer_size=BUFFER_SIZE))\n",
    "test_dataset = (prepare_dataset(test_paths)\n",
    "                .batch(BATCH_SIZE)\n",
    "                .prefetch(buffer_size=BUFFER_SIZE))\n"
   ]
  },
  {
   "cell_type": "code",
   "execution_count": 13,
   "metadata": {},
   "outputs": [
    {
     "name": "stdout",
     "output_type": "stream",
     "text": [
      "Epoch 1/10\n",
      "109/109 [==============================] - 122s 1s/step - loss: 3.0434 - accuracy: 0.3910 - val_loss: 4.8967 - val_accuracy: 0.1152\n",
      "Epoch 2/10\n",
      "109/109 [==============================] - 116s 1s/step - loss: 1.6238 - accuracy: 0.6160 - val_loss: 4.6496 - val_accuracy: 0.1267\n",
      "Epoch 3/10\n",
      "109/109 [==============================] - 114s 1s/step - loss: 0.9253 - accuracy: 0.7757 - val_loss: 3.2794 - val_accuracy: 0.3312\n",
      "Epoch 4/10\n",
      "109/109 [==============================] - 114s 1s/step - loss: 0.4584 - accuracy: 0.8957 - val_loss: 2.0080 - val_accuracy: 0.5536\n",
      "Epoch 5/10\n",
      "109/109 [==============================] - 116s 1s/step - loss: 0.2305 - accuracy: 0.9572 - val_loss: 1.5535 - val_accuracy: 0.6244\n",
      "Epoch 6/10\n",
      "109/109 [==============================] - 117s 1s/step - loss: 0.1170 - accuracy: 0.9806 - val_loss: 1.4156 - val_accuracy: 0.6642\n",
      "Epoch 7/10\n",
      "109/109 [==============================] - 118s 1s/step - loss: 0.0727 - accuracy: 0.9908 - val_loss: 1.4717 - val_accuracy: 0.6607\n",
      "Epoch 8/10\n",
      "109/109 [==============================] - 127s 1s/step - loss: 0.0499 - accuracy: 0.9955 - val_loss: 1.4472 - val_accuracy: 0.6653\n",
      "Epoch 9/10\n",
      "109/109 [==============================] - 143s 1s/step - loss: 0.0413 - accuracy: 0.9945 - val_loss: 1.4442 - val_accuracy: 0.6647\n",
      "Epoch 10/10\n",
      "109/109 [==============================] - 129s 1s/step - loss: 0.0289 - accuracy: 0.9981 - val_loss: 1.4159 - val_accuracy: 0.6745\n",
      "28/28 [==============================] - 6s 190ms/step - loss: 1.4159 - accuracy: 0.6745\n",
      "test accuracy: 0.6745391488075256\n"
     ]
    },
    {
     "name": "stderr",
     "output_type": "stream",
     "text": [
      "C:\\Users\\hp\\AppData\\Local\\Temp\\ipykernel_3488\\3768594648.py:2: MatplotlibDeprecationWarning: The seaborn styles shipped by Matplotlib are deprecated since 3.6, as they no longer correspond to the styles shipped by seaborn. However, they will remain available as 'seaborn-v0_8-<style>'. Alternatively, directly use the seaborn API instead.\n",
      "  plt.style.use('seaborn-darkgrid')\n"
     ]
    }
   ],
   "source": [
    "EPOCHS = 10\n",
    "model = build_network(64, 64, 3, len(CLASSES))\n",
    "model.compile(loss='categorical_crossentropy',\n",
    "              optimizer='adam',\n",
    "              metrics = ['accuracy'])\n",
    "history = model.fit(train_dataset,\n",
    "                    validation_data=test_dataset,\n",
    "                    epochs=EPOCHS)\n",
    "result = model.evaluate(test_dataset)\n",
    "print(f\"test accuracy: {result[1]}\")\n",
    "plot_model_history(history, 'accuracy', 'normal')"
   ]
  },
  {
   "cell_type": "code",
   "execution_count": 14,
   "metadata": {},
   "outputs": [],
   "source": [
    "train_dataset = (prepare_dataset(train_paths)\n",
    "                 .map(augment,\n",
    "                      num_parallel_calls=AUTOTUNE)\n",
    "                      .batch(BATCH_SIZE)\n",
    "                      .shuffle(buffer_size=BUFFER_SIZE)\n",
    "                      .prefetch(buffer_size=BUFFER_SIZE))\n",
    "test_dataset = (prepare_dataset(test_paths)\n",
    "                .batch(BATCH_SIZE)\n",
    "                .prefetch(buffer_size=BUFFER_SIZE))"
   ]
  },
  {
   "cell_type": "code",
   "execution_count": 15,
   "metadata": {},
   "outputs": [
    {
     "name": "stdout",
     "output_type": "stream",
     "text": [
      "Epoch 1/10\n",
      "109/109 [==============================] - 132s 1s/step - loss: 3.6516 - accuracy: 0.2884 - val_loss: 5.7860 - val_accuracy: 0.0063\n",
      "Epoch 2/10\n",
      "109/109 [==============================] - 116s 1s/step - loss: 2.6436 - accuracy: 0.4152 - val_loss: 7.3837 - val_accuracy: 0.0628\n",
      "Epoch 3/10\n",
      "109/109 [==============================] - 119s 1s/step - loss: 2.2108 - accuracy: 0.4911 - val_loss: 4.0718 - val_accuracy: 0.1694\n",
      "Epoch 4/10\n",
      "109/109 [==============================] - 127s 1s/step - loss: 1.8835 - accuracy: 0.5534 - val_loss: 2.8885 - val_accuracy: 0.4217\n",
      "Epoch 5/10\n",
      "109/109 [==============================] - 118s 1s/step - loss: 1.7541 - accuracy: 0.5746 - val_loss: 1.8708 - val_accuracy: 0.5490\n",
      "Epoch 6/10\n",
      "109/109 [==============================] - 120s 1s/step - loss: 1.6914 - accuracy: 0.5905 - val_loss: 2.2412 - val_accuracy: 0.5426\n",
      "Epoch 7/10\n",
      "109/109 [==============================] - 122s 1s/step - loss: 1.5236 - accuracy: 0.6201 - val_loss: 1.5846 - val_accuracy: 0.6037\n",
      "Epoch 8/10\n",
      "109/109 [==============================] - 125s 1s/step - loss: 1.3162 - accuracy: 0.6574 - val_loss: 1.5144 - val_accuracy: 0.6285\n",
      "Epoch 9/10\n",
      "109/109 [==============================] - 123s 1s/step - loss: 1.2091 - accuracy: 0.6915 - val_loss: 1.6143 - val_accuracy: 0.6313\n",
      "Epoch 10/10\n",
      "109/109 [==============================] - 117s 1s/step - loss: 1.1959 - accuracy: 0.6898 - val_loss: 1.6051 - val_accuracy: 0.6238\n",
      "28/28 [==============================] - 5s 174ms/step - loss: 1.6051 - accuracy: 0.6238\n",
      "test accuracy: 0.6238479018211365\n"
     ]
    },
    {
     "name": "stderr",
     "output_type": "stream",
     "text": [
      "C:\\Users\\hp\\AppData\\Local\\Temp\\ipykernel_3488\\3768594648.py:2: MatplotlibDeprecationWarning: The seaborn styles shipped by Matplotlib are deprecated since 3.6, as they no longer correspond to the styles shipped by seaborn. However, they will remain available as 'seaborn-v0_8-<style>'. Alternatively, directly use the seaborn API instead.\n",
      "  plt.style.use('seaborn-darkgrid')\n"
     ]
    }
   ],
   "source": [
    "model = build_network(64, 64 , 3, len(CLASSES))\n",
    "model.compile(loss='categorical_crossentropy',\n",
    "              optimizer='adam',\n",
    "              metrics = ['accuracy'])\n",
    "history = model.fit(train_dataset,\n",
    "                    validation_data=test_dataset,\n",
    "                    epochs=EPOCHS)\n",
    "result = model.evaluate(test_dataset)\n",
    "print(f\"test accuracy: {result[1]}\")\n",
    "plot_model_history(history, 'accuracy', 'augmented')"
   ]
  }
 ],
 "metadata": {
  "kernelspec": {
   "display_name": "base",
   "language": "python",
   "name": "python3"
  },
  "language_info": {
   "codemirror_mode": {
    "name": "ipython",
    "version": 3
   },
   "file_extension": ".py",
   "mimetype": "text/x-python",
   "name": "python",
   "nbconvert_exporter": "python",
   "pygments_lexer": "ipython3",
   "version": "3.10.11"
  },
  "orig_nbformat": 4
 },
 "nbformat": 4,
 "nbformat_minor": 2
}
