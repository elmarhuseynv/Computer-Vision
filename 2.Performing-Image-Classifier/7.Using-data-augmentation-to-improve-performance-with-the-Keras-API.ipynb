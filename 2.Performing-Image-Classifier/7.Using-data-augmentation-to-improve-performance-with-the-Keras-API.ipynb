{
 "cells": [
  {
   "cell_type": "code",
   "execution_count": 1,
   "metadata": {},
   "outputs": [],
   "source": [
    "import os\n",
    "import pathlib\n",
    "import numpy as np\n",
    "import matplotlib.pyplot as plt\n",
    "import tensorflow_docs.plots\n",
    "import glob\n",
    "from sklearn.model_selection import train_test_split\n",
    "from sklearn.preprocessing import LabelBinarizer\n",
    "from tensorflow.keras.layers import *\n",
    "from tensorflow.keras.models import Model\n",
    "from tensorflow.keras.preprocessing.image import *"
   ]
  },
  {
   "cell_type": "code",
   "execution_count": 2,
   "metadata": {},
   "outputs": [],
   "source": [
    "def load_images_and_label(image_paths, target_size=(64,64)):\n",
    "    images = []\n",
    "    labels = []\n",
    "\n",
    "    for image_path in image_paths:\n",
    "        image = load_img(image_path,\n",
    "                         target_size = target_size)\n",
    "        image = img_to_array(image)\n",
    "\n",
    "        label = image_path.split(os.path.sep)[-2]\n",
    "\n",
    "        images.append(image)\n",
    "        labels.append(label)\n",
    "\n",
    "    return np.array(images), np.array(labels)"
   ]
  },
  {
   "cell_type": "code",
   "execution_count": 3,
   "metadata": {},
   "outputs": [],
   "source": [
    "def build_network(width, height, depth, classes):\n",
    "    input_layer = Input(shape=(width, height, depth))\n",
    "\n",
    "    x = Conv2D(filters=32,\n",
    "               kernel_size=(3, 3),\n",
    "               padding='same')(input_layer)\n",
    "    x = ReLU()(x)\n",
    "    x = BatchNormalization(axis=-1)(x)\n",
    "    x = Conv2D(filters=32,\n",
    "               kernel_size=(3, 3),\n",
    "               padding='same')(x)\n",
    "    x = ReLU()(x)\n",
    "    x = BatchNormalization(axis=-1)(x)\n",
    "    x = MaxPooling2D(pool_size=(2, 2))(x)\n",
    "    x = Dropout(rate=0.25)(x)\n",
    "\n",
    "    x = Conv2D(filters=64,\n",
    "               kernel_size=(3, 3),\n",
    "               padding='same')(x)\n",
    "    x = ReLU()(x)\n",
    "    x = BatchNormalization(axis=-1)(x)\n",
    "    x = Conv2D(filters=64,\n",
    "               kernel_size=(3, 3),\n",
    "               padding='same')(x)\n",
    "    x = ReLU()(x)\n",
    "    x = BatchNormalization(axis=-1)(x)\n",
    "    x = MaxPooling2D(pool_size=(2, 2))(x)\n",
    "    x = Dropout(rate=0.25)(x)\n",
    "\n",
    "    x = Flatten()(x)\n",
    "    x = Dense(units=512)(x)\n",
    "    x = ReLU()(x)\n",
    "    x = BatchNormalization(axis=-1)(x)\n",
    "    x = Dropout(rate=0.25)(x)\n",
    "\n",
    "    x = Dense(units=classes)(x)\n",
    "    output = Softmax()(x)\n",
    "\n",
    "    return Model(input_layer, output)"
   ]
  },
  {
   "cell_type": "code",
   "execution_count": 4,
   "metadata": {},
   "outputs": [],
   "source": [
    "def plot_model_history(model_history, metric, plot_name):\n",
    "    plt.style.use('seaborn-darkgrid')\n",
    "    plotter = tfdocs.plots.HistoryPLotter()\n",
    "    plotter.plot({'Model': model_history}, metric=metric)\n",
    "    plt.title(f'{metric.upper()}')\n",
    "    plt.ylim([0, 1])\n",
    "    plt.savefig(f'{plot_name}.png')\n",
    "    plt.close()"
   ]
  },
  {
   "cell_type": "code",
   "execution_count": 5,
   "metadata": {},
   "outputs": [],
   "source": [
    "SEED = 999\n",
    "np.random.seed(SEED)"
   ]
  },
  {
   "cell_type": "code",
   "execution_count": 6,
   "metadata": {},
   "outputs": [],
   "source": [
    "base_path = ('C:/Users/hp/Documents/DATA/caltech-101/101_ObjectCategories/*/*.jpg')\n",
    "image_pattern = str(base_path)\n",
    "image_paths = [*glob.glob(image_pattern)]\n",
    "image_paths = [p for p in image_paths if\n",
    "               p.split(os.path.sep)[-2] !=\n",
    "               'BACKGROUND_Google']"
   ]
  },
  {
   "cell_type": "code",
   "execution_count": 7,
   "metadata": {},
   "outputs": [],
   "source": [
    "classes = {p.split(os.path.sep)[-2] for p in image_paths}"
   ]
  },
  {
   "cell_type": "code",
   "execution_count": 8,
   "metadata": {},
   "outputs": [],
   "source": [
    "X, y = load_images_and_label(image_paths)\n",
    "x = X.astype('float') / 255.0\n",
    "y = LabelBinarizer().fit_transform(y)"
   ]
  },
  {
   "cell_type": "code",
   "execution_count": 9,
   "metadata": {},
   "outputs": [],
   "source": [
    "(X_train, X_test, y_train, y_test) = train_test_split(X, y, test_size=0.2, random_state=SEED)"
   ]
  },
  {
   "cell_type": "code",
   "execution_count": 10,
   "metadata": {},
   "outputs": [
    {
     "name": "stdout",
     "output_type": "stream",
     "text": [
      "Epoch 1/40\n",
      "109/109 [==============================] - 102s 918ms/step - loss: 2.7700 - accuracy: 0.4194 - val_loss: 2.3471 - val_accuracy: 0.4948\n",
      "Epoch 2/40\n",
      "109/109 [==============================] - 100s 922ms/step - loss: 1.3572 - accuracy: 0.6767 - val_loss: 1.8371 - val_accuracy: 0.5570\n",
      "Epoch 3/40\n",
      "109/109 [==============================] - 103s 948ms/step - loss: 0.6264 - accuracy: 0.8578 - val_loss: 1.6747 - val_accuracy: 0.6118\n",
      "Epoch 4/40\n",
      "109/109 [==============================] - 102s 940ms/step - loss: 0.2450 - accuracy: 0.9563 - val_loss: 1.6459 - val_accuracy: 0.6250\n",
      "Epoch 5/40\n",
      "109/109 [==============================] - 136s 1s/step - loss: 0.0863 - accuracy: 0.9922 - val_loss: 1.5801 - val_accuracy: 0.6348\n",
      "Epoch 6/40\n",
      "109/109 [==============================] - 111s 1s/step - loss: 0.0418 - accuracy: 0.9973 - val_loss: 1.5423 - val_accuracy: 0.6423\n",
      "Epoch 7/40\n",
      "109/109 [==============================] - 108s 994ms/step - loss: 0.0261 - accuracy: 0.9986 - val_loss: 1.5492 - val_accuracy: 0.6480\n",
      "Epoch 8/40\n",
      "109/109 [==============================] - 110s 1s/step - loss: 0.0199 - accuracy: 0.9993 - val_loss: 1.5472 - val_accuracy: 0.6480\n",
      "Epoch 9/40\n",
      "109/109 [==============================] - 110s 1s/step - loss: 0.0174 - accuracy: 0.9993 - val_loss: 1.5748 - val_accuracy: 0.6509\n",
      "Epoch 10/40\n",
      "109/109 [==============================] - 110s 1s/step - loss: 0.0117 - accuracy: 0.9996 - val_loss: 1.5839 - val_accuracy: 0.6469\n",
      "Epoch 11/40\n",
      "109/109 [==============================] - 111s 1s/step - loss: 0.0101 - accuracy: 0.9994 - val_loss: 1.6059 - val_accuracy: 0.6532\n",
      "Epoch 12/40\n",
      "109/109 [==============================] - 111s 1s/step - loss: 0.0090 - accuracy: 0.9994 - val_loss: 1.5694 - val_accuracy: 0.6463\n",
      "Epoch 13/40\n",
      "109/109 [==============================] - 110s 1s/step - loss: 0.0080 - accuracy: 0.9996 - val_loss: 1.5552 - val_accuracy: 0.6573\n",
      "Epoch 14/40\n",
      "109/109 [==============================] - 111s 1s/step - loss: 0.0056 - accuracy: 0.9997 - val_loss: 1.5575 - val_accuracy: 0.6532\n",
      "Epoch 15/40\n",
      "109/109 [==============================] - 110s 1s/step - loss: 0.0058 - accuracy: 0.9996 - val_loss: 1.5681 - val_accuracy: 0.6584\n",
      "Epoch 16/40\n",
      "109/109 [==============================] - 110s 1s/step - loss: 0.0063 - accuracy: 0.9994 - val_loss: 1.6006 - val_accuracy: 0.6584\n",
      "Epoch 17/40\n",
      "109/109 [==============================] - 110s 1s/step - loss: 0.0044 - accuracy: 0.9997 - val_loss: 1.5870 - val_accuracy: 0.6555\n",
      "Epoch 18/40\n",
      "109/109 [==============================] - 109s 999ms/step - loss: 0.0048 - accuracy: 0.9996 - val_loss: 1.5518 - val_accuracy: 0.6573\n",
      "Epoch 19/40\n",
      "109/109 [==============================] - 106s 976ms/step - loss: 0.0032 - accuracy: 0.9997 - val_loss: 1.5649 - val_accuracy: 0.6601\n",
      "Epoch 20/40\n",
      "109/109 [==============================] - 136s 1s/step - loss: 0.0027 - accuracy: 0.9997 - val_loss: 1.5602 - val_accuracy: 0.6624\n",
      "Epoch 21/40\n",
      "109/109 [==============================] - 120s 1s/step - loss: 0.0035 - accuracy: 0.9996 - val_loss: 1.6142 - val_accuracy: 0.6480\n",
      "Epoch 22/40\n",
      "109/109 [==============================] - 119s 1s/step - loss: 0.0065 - accuracy: 0.9994 - val_loss: 1.7301 - val_accuracy: 0.6475\n",
      "Epoch 23/40\n",
      "109/109 [==============================] - 119s 1s/step - loss: 0.0064 - accuracy: 0.9994 - val_loss: 1.8205 - val_accuracy: 0.6250\n",
      "Epoch 24/40\n",
      "109/109 [==============================] - 120s 1s/step - loss: 0.0247 - accuracy: 0.9958 - val_loss: 2.7570 - val_accuracy: 0.5639\n",
      "Epoch 25/40\n",
      "109/109 [==============================] - 121s 1s/step - loss: 0.8037 - accuracy: 0.7969 - val_loss: 14.3601 - val_accuracy: 0.2143\n",
      "Epoch 26/40\n",
      "109/109 [==============================] - 122s 1s/step - loss: 0.4966 - accuracy: 0.8683 - val_loss: 2.3045 - val_accuracy: 0.6135\n",
      "Epoch 27/40\n",
      "109/109 [==============================] - 108s 994ms/step - loss: 0.0657 - accuracy: 0.9836 - val_loss: 1.7761 - val_accuracy: 0.6503\n",
      "Epoch 28/40\n",
      "109/109 [==============================] - 113s 1s/step - loss: 0.0291 - accuracy: 0.9944 - val_loss: 2.1140 - val_accuracy: 0.6071\n",
      "Epoch 29/40\n",
      "109/109 [==============================] - 113s 1s/step - loss: 0.0203 - accuracy: 0.9961 - val_loss: 1.7580 - val_accuracy: 0.6567\n",
      "Epoch 30/40\n",
      "109/109 [==============================] - 118s 1s/step - loss: 0.0122 - accuracy: 0.9984 - val_loss: 1.7124 - val_accuracy: 0.6642\n",
      "Epoch 31/40\n",
      "109/109 [==============================] - 121s 1s/step - loss: 0.0091 - accuracy: 0.9990 - val_loss: 1.6956 - val_accuracy: 0.6624\n",
      "Epoch 32/40\n",
      "109/109 [==============================] - 120s 1s/step - loss: 0.0075 - accuracy: 0.9990 - val_loss: 1.7125 - val_accuracy: 0.6636\n",
      "Epoch 33/40\n",
      "109/109 [==============================] - 117s 1s/step - loss: 0.0072 - accuracy: 0.9991 - val_loss: 1.7328 - val_accuracy: 0.6596\n",
      "Epoch 34/40\n",
      "109/109 [==============================] - 110s 1s/step - loss: 0.0050 - accuracy: 0.9996 - val_loss: 1.7313 - val_accuracy: 0.6613\n",
      "Epoch 35/40\n",
      "109/109 [==============================] - 110s 1s/step - loss: 0.0046 - accuracy: 0.9994 - val_loss: 1.7310 - val_accuracy: 0.6630\n",
      "Epoch 36/40\n",
      "109/109 [==============================] - 114s 1s/step - loss: 0.0049 - accuracy: 0.9994 - val_loss: 1.7264 - val_accuracy: 0.6647\n",
      "Epoch 37/40\n",
      "109/109 [==============================] - 109s 1s/step - loss: 0.0040 - accuracy: 0.9994 - val_loss: 1.7279 - val_accuracy: 0.6647\n",
      "Epoch 38/40\n",
      "109/109 [==============================] - 109s 1s/step - loss: 0.0032 - accuracy: 0.9996 - val_loss: 1.7241 - val_accuracy: 0.6734\n",
      "Epoch 39/40\n",
      "109/109 [==============================] - 109s 1s/step - loss: 0.0040 - accuracy: 0.9996 - val_loss: 1.7095 - val_accuracy: 0.6705\n",
      "Epoch 40/40\n",
      "109/109 [==============================] - 109s 1s/step - loss: 0.0030 - accuracy: 0.9996 - val_loss: 1.7171 - val_accuracy: 0.6699\n",
      "55/55 [==============================] - 5s 88ms/step - loss: 1.7171 - accuracy: 0.6699\n",
      "Test accuracy: 0.6699308753013611\n"
     ]
    },
    {
     "name": "stderr",
     "output_type": "stream",
     "text": [
      "C:\\Users\\hp\\AppData\\Local\\Temp\\ipykernel_13300\\3654036090.py:2: MatplotlibDeprecationWarning: The seaborn styles shipped by Matplotlib are deprecated since 3.6, as they no longer correspond to the styles shipped by seaborn. However, they will remain available as 'seaborn-v0_8-<style>'. Alternatively, directly use the seaborn API instead.\n",
      "  plt.style.use('seaborn-darkgrid')\n"
     ]
    },
    {
     "ename": "NameError",
     "evalue": "name 'tfdocs' is not defined",
     "output_type": "error",
     "traceback": [
      "\u001b[1;31m---------------------------------------------------------------------------\u001b[0m",
      "\u001b[1;31mNameError\u001b[0m                                 Traceback (most recent call last)",
      "Cell \u001b[1;32mIn[10], line 13\u001b[0m\n\u001b[0;32m     11\u001b[0m result \u001b[39m=\u001b[39m model\u001b[39m.\u001b[39mevaluate(X_test, y_test)\n\u001b[0;32m     12\u001b[0m \u001b[39mprint\u001b[39m(\u001b[39mf\u001b[39m\u001b[39m'\u001b[39m\u001b[39mTest accuracy: \u001b[39m\u001b[39m{\u001b[39;00mresult[\u001b[39m1\u001b[39m]\u001b[39m}\u001b[39;00m\u001b[39m'\u001b[39m)\n\u001b[1;32m---> 13\u001b[0m plot_model_history(history, \u001b[39m'\u001b[39;49m\u001b[39maccuracy\u001b[39;49m\u001b[39m'\u001b[39;49m, \u001b[39m'\u001b[39;49m\u001b[39mnormal\u001b[39;49m\u001b[39m'\u001b[39;49m)\n",
      "Cell \u001b[1;32mIn[4], line 3\u001b[0m, in \u001b[0;36mplot_model_history\u001b[1;34m(model_history, metric, plot_name)\u001b[0m\n\u001b[0;32m      1\u001b[0m \u001b[39mdef\u001b[39;00m \u001b[39mplot_model_history\u001b[39m(model_history, metric, plot_name):\n\u001b[0;32m      2\u001b[0m     plt\u001b[39m.\u001b[39mstyle\u001b[39m.\u001b[39muse(\u001b[39m'\u001b[39m\u001b[39mseaborn-darkgrid\u001b[39m\u001b[39m'\u001b[39m)\n\u001b[1;32m----> 3\u001b[0m     plotter \u001b[39m=\u001b[39m tfdocs\u001b[39m.\u001b[39mplots\u001b[39m.\u001b[39mHistoryPLotter()\n\u001b[0;32m      4\u001b[0m     plotter\u001b[39m.\u001b[39mplot({\u001b[39m'\u001b[39m\u001b[39mModel\u001b[39m\u001b[39m'\u001b[39m: model_history}, metric\u001b[39m=\u001b[39mmetric)\n\u001b[0;32m      5\u001b[0m     plt\u001b[39m.\u001b[39mtitle(\u001b[39mf\u001b[39m\u001b[39m'\u001b[39m\u001b[39m{\u001b[39;00mmetric\u001b[39m.\u001b[39mupper()\u001b[39m}\u001b[39;00m\u001b[39m'\u001b[39m)\n",
      "\u001b[1;31mNameError\u001b[0m: name 'tfdocs' is not defined"
     ]
    }
   ],
   "source": [
    "EPOCHS = 40\n",
    "BATCH_SIZE = 64\n",
    "model = build_network(64, 64, 3, len(classes))\n",
    "model.compile(loss='categorical_crossentropy',\n",
    "              optimizer='adam',\n",
    "              metrics=['accuracy'])\n",
    "history = model.fit(X_train, y_train, \n",
    "                    validation_data=(X_test, y_test),\n",
    "                    epochs=EPOCHS,\n",
    "                    batch_size=BATCH_SIZE)\n",
    "result = model.evaluate(X_test, y_test)\n",
    "print(f'Test accuracy: {result[1]}')\n",
    "plot_model_history(history, 'accuracy', 'normal')"
   ]
  },
  {
   "cell_type": "code",
   "execution_count": null,
   "metadata": {},
   "outputs": [],
   "source": [
    "model = build_network(64, 64, 3, len(classes))\n",
    "model.compile(loss='categorical_crossentropy',\n",
    "              optimizer='adam',\n",
    "              metrics=['accuracy'])\n",
    "augmentor = ImageDataGenerator(horizontal_flip=True,\n",
    "                               rotation_range=30,\n",
    "                               width_shift_range=0.1,\n",
    "                               height_shift_range=0.1,\n",
    "                               shear_range=0.2,\n",
    "                               zoom_rabge=0.2,\n",
    "                               fill_mode='nearest')\n",
    "train_generator = augmentor.flow(X_train, y_train, BATCH_SIZE)\n",
    "hist = model.fit(train_generator, \n",
    "                 steps_per_epoch=len(X_train) // BATCH_SIZE,\n",
    "                 validation_data=(X_test, y_test),\n",
    "                 epochs=EPOCHS)\n",
    "\n",
    "result = model.evaluate(X_test, y_test)\n",
    "print(f'Test Accuracy: {result[1]}')\n",
    "plot_model_history(hist, 'accuracy', 'augmented')"
   ]
  }
 ],
 "metadata": {
  "kernelspec": {
   "display_name": "base",
   "language": "python",
   "name": "python3"
  },
  "language_info": {
   "codemirror_mode": {
    "name": "ipython",
    "version": 3
   },
   "file_extension": ".py",
   "mimetype": "text/x-python",
   "name": "python",
   "nbconvert_exporter": "python",
   "pygments_lexer": "ipython3",
   "version": "3.10.11"
  },
  "orig_nbformat": 4
 },
 "nbformat": 4,
 "nbformat_minor": 2
}
