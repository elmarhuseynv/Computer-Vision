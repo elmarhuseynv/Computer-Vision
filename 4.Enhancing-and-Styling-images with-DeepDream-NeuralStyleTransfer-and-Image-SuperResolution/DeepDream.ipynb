{
 "cells": [
  {
   "cell_type": "code",
   "execution_count": 1,
   "metadata": {},
   "outputs": [],
   "source": [
    "import numpy as np\n",
    "import tensorflow as tf\n",
    "from tensorflow.keras import Model \n",
    "from tensorflow.keras.applications.inception_v3 import *"
   ]
  },
  {
   "cell_type": "code",
   "execution_count": 5,
   "metadata": {},
   "outputs": [],
   "source": [
    "class DeepDreamer(object):\n",
    "    def __init__(self, octave_scale=1.30, octave_power_factors=None, layers=None):\n",
    "        self.octave_scale = octave_scale\n",
    "\n",
    "        if octave_power_factors is None:\n",
    "            self.octave_power_factora = [*range(-2,3)]\n",
    "        else:\n",
    "            self.octave_power_factora = octave_power_factors\n",
    "\n",
    "        if layers is None:\n",
    "            self.layers = [\"mixed3\",\"mixed5\"]\n",
    "        else:\n",
    "            self.layers = layers\n",
    "\n",
    "        self.base_model = InceptionV3(weight='imagenet', include_top=False)\n",
    "        outputs = [self.base_model.get_layer(name).output\n",
    "                   for name in self.layers]\n",
    "        self.dreamer_model=Model(self.base_model.input. outputs)\n",
    "\n",
    "        def _calculate_loss(self, image):\n",
    "            image_batch = tf.expand_dims(image, axis=0)\n",
    "            activations = self.dreamer_mdeol(image_batch)\n",
    "\n",
    "            if len(activations) == 1:\n",
    "                activations = [activations]\n",
    "            \n",
    "            losses = []\n",
    "            for activation in activations:\n",
    "                loss = tf.match.reduce_mean(activation)\n",
    "                losses.append(loss)\n",
    "            total_loss = tf.reduce_sum(losses)\n",
    "            return total_loss\n",
    "        \n",
    "        \n",
    "            \n",
    "\n"
   ]
  },
  {
   "cell_type": "code",
   "execution_count": null,
   "metadata": {},
   "outputs": [],
   "source": []
  }
 ],
 "metadata": {
  "kernelspec": {
   "display_name": "Python 3",
   "language": "python",
   "name": "python3"
  },
  "language_info": {
   "codemirror_mode": {
    "name": "ipython",
    "version": 3
   },
   "file_extension": ".py",
   "mimetype": "text/x-python",
   "name": "python",
   "nbconvert_exporter": "python",
   "pygments_lexer": "ipython3",
   "version": "3.10.11"
  },
  "orig_nbformat": 4
 },
 "nbformat": 4,
 "nbformat_minor": 2
}
